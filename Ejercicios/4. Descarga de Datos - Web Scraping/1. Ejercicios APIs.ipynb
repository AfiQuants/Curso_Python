{
 "cells": [
  {
   "cell_type": "markdown",
   "metadata": {},
   "source": [
    "## Descarga de Datos - Obtención de datos web"
   ]
  },
  {
   "cell_type": "markdown",
   "metadata": {},
   "source": [
    "### APIs"
   ]
  },
  {
   "cell_type": "markdown",
   "metadata": {},
   "source": [
    "La interfaz de programación de aplicaciones, conocida también por la sigla API, en inglés, application programming interface, es un conjunto de subrutinas, funciones y procedimientos que ofrece cierta biblioteca para ser utilizado por otro software como una capa de abstracción.\n",
    "<br><br> \n",
    "En muchas ocasiones, las páginas que almacenan datos, para evitar el uso indebido del scrapeo para acceder a los mismos, liberan **APIs** para que el usuario final pueda realizar peticiones y acceder a los datos sin necesidad de técnicas *ilícitas*. De hecho, pandas_datareader, internamente hace uso de las diferentes **APIs** de las fuentes ya vistas.\n",
    "<br><br> \n",
    "Debido a la multitud y diferente naturaleza de las **APIs** en la web, hacemos referenecia a una de las más famosas: la **API** de [Twitter](https://python-twitter.readthedocs.io/en/latest/).\n",
    "<br><br>\n",
    "Para acceder al contenido, habrá que registrarse como desarrollador y comenzar un proyecto:\n",
    "https://developer.twitter.com/.\n",
    "<br><br>\n",
    "En este módulo, como ejercicio final, se propone el registro y posterior replicación de algunos códigos ejemplo de extracción de **Tweets**, tales como los que se pueden encontrar en la página: https://stackabuse.com/accessing-the-twitter-api-with-python/\n",
    "<br><br>\n",
    "¿Os atrevéis a customizar dicho código y hacer algo original ?"
   ]
  }
 ],
 "metadata": {
  "kernelspec": {
   "display_name": "Python 3",
   "language": "python",
   "name": "python3"
  },
  "language_info": {
   "codemirror_mode": {
    "name": "ipython",
    "version": 3
   },
   "file_extension": ".py",
   "mimetype": "text/x-python",
   "name": "python",
   "nbconvert_exporter": "python",
   "pygments_lexer": "ipython3",
   "version": "3.7.6"
  }
 },
 "nbformat": 4,
 "nbformat_minor": 2
}
