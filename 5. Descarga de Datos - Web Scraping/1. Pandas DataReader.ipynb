{
 "cells": [
  {
   "cell_type": "markdown",
   "metadata": {},
   "source": [
    "## Descarga de Datos - Obtención de datos web"
   ]
  },
  {
   "cell_type": "markdown",
   "metadata": {},
   "source": [
    "A lo largo de estos módulos, se ha podido tratar la carga y manipulación de datos con **pandas** en caso de disponer localmente de los archivos que contienen dichos datos (para refrescar la memoria, véase [su sección] (../3.%20Pandas/2.1.%20Operaciones%20básicas.ipynb)). \n",
    "<br>\n",
    "<br>\n",
    "No obstante, en muchas ocasiones encontraremos que queremos obtener datos que están disponibles en una página web y utilizarlos en nuestro entorno de trabajo; para dichas ocasiones, veremos los siguientes recursos:\n",
    "\n",
    "* **Pandas Datareader**\n",
    "* **Web Scraping**\n",
    "* **Introducción a APIs**"
   ]
  },
  {
   "cell_type": "markdown",
   "metadata": {},
   "source": [
    "### Pandas-Datareader"
   ]
  },
  {
   "cell_type": "markdown",
   "metadata": {},
   "source": [
    "**Pandas-Datareader** es una librería que, si bien originalmente pertenecía a la propia librería de **pandas**, dada su magnitud y alcance, se ha convertido en un repositorio y proyecto independiente.\n",
    "<br><br>\n",
    "Su utilidad es limitada y está principalmente enfocada a **datos financieros**, por lo que no se podrán obtener datos de cualquier fuente; las fuentes disponibles en este momento son:\n",
    "\n",
    "* **AlphaVantage**\n",
    "* **Federal Reserve Economic Data (FRED)**\n",
    "* **Fama-French Data (Ken French’s Data Library)**\n",
    "* **Bank of Canada**\n",
    "* **Econdb**\n",
    "* **Enigma**\n",
    "* **Eurostat**\n",
    "* **The Investors Exchange (IEX)**\n",
    "* **Moscow Exchange (MOEX)**\n",
    "* **NASDAQ**\n",
    "* **Naver Finance**\n",
    "* **Organisation for Economic Co-operation and Development (OECD)**\n",
    "* **Quandl**\n",
    "* **Stooq.com**\n",
    "* **Tiingo**\n",
    "* **Thrift Savings Plan (TSP)**\n",
    "* **World Bank**\n",
    "\n",
    "Como de costumbre, primero deberemos instalar dicho paquete en nuestro entorno de trabajo:"
   ]
  },
  {
   "cell_type": "code",
   "execution_count": null,
   "metadata": {
    "scrolled": true
   },
   "outputs": [],
   "source": [
    "!pip install pandas-datareader"
   ]
  },
  {
   "cell_type": "markdown",
   "metadata": {},
   "source": [
    "Esa es la *release* oficial; no obstante, podemos instalar la útima versión directamente desde su **repositorio** si lo consideramos mejor:"
   ]
  },
  {
   "cell_type": "code",
   "execution_count": null,
   "metadata": {},
   "outputs": [],
   "source": [
    "!pip install git+https://github.com/pydata/pandas-datareader.git"
   ]
  },
  {
   "cell_type": "markdown",
   "metadata": {},
   "source": [
    "Para utilizar dicha librería, la importaremos como de costumbre:"
   ]
  },
  {
   "cell_type": "code",
   "execution_count": 4,
   "metadata": {},
   "outputs": [],
   "source": [
    "import pandas_datareader as pdr"
   ]
  },
  {
   "cell_type": "markdown",
   "metadata": {},
   "source": [
    "Una vez importada, se podrá proceder a extraer los datos pertinentes de las fuentes anteriormente citadas. En este ejemplo, veremos como extraer datos de la **FRED**.\n",
    "<br><br>\n",
    "**Cabe destacar que en muchas de ellas será necesario tener una *Key* obtenida tras un registro previo, con la que identificar nuestro usuario**. "
   ]
  },
  {
   "cell_type": "code",
   "execution_count": 10,
   "metadata": {},
   "outputs": [
    {
     "data": {
      "text/html": [
       "<div>\n",
       "<style scoped>\n",
       "    .dataframe tbody tr th:only-of-type {\n",
       "        vertical-align: middle;\n",
       "    }\n",
       "\n",
       "    .dataframe tbody tr th {\n",
       "        vertical-align: top;\n",
       "    }\n",
       "\n",
       "    .dataframe thead th {\n",
       "        text-align: right;\n",
       "    }\n",
       "</style>\n",
       "<table border=\"1\" class=\"dataframe\">\n",
       "  <thead>\n",
       "    <tr style=\"text-align: right;\">\n",
       "      <th></th>\n",
       "      <th>GDP</th>\n",
       "    </tr>\n",
       "    <tr>\n",
       "      <th>DATE</th>\n",
       "      <th></th>\n",
       "    </tr>\n",
       "  </thead>\n",
       "  <tbody>\n",
       "    <tr>\n",
       "      <th>2018-01-01</th>\n",
       "      <td>20242.215</td>\n",
       "    </tr>\n",
       "    <tr>\n",
       "      <th>2018-04-01</th>\n",
       "      <td>20552.653</td>\n",
       "    </tr>\n",
       "    <tr>\n",
       "      <th>2018-07-01</th>\n",
       "      <td>20742.723</td>\n",
       "    </tr>\n",
       "    <tr>\n",
       "      <th>2018-10-01</th>\n",
       "      <td>20909.853</td>\n",
       "    </tr>\n",
       "    <tr>\n",
       "      <th>2019-01-01</th>\n",
       "      <td>21115.309</td>\n",
       "    </tr>\n",
       "    <tr>\n",
       "      <th>2019-04-01</th>\n",
       "      <td>21329.877</td>\n",
       "    </tr>\n",
       "    <tr>\n",
       "      <th>2019-07-01</th>\n",
       "      <td>21540.325</td>\n",
       "    </tr>\n",
       "    <tr>\n",
       "      <th>2019-10-01</th>\n",
       "      <td>21747.394</td>\n",
       "    </tr>\n",
       "    <tr>\n",
       "      <th>2020-01-01</th>\n",
       "      <td>21561.139</td>\n",
       "    </tr>\n",
       "  </tbody>\n",
       "</table>\n",
       "</div>"
      ],
      "text/plain": [
       "                  GDP\n",
       "DATE                 \n",
       "2018-01-01  20242.215\n",
       "2018-04-01  20552.653\n",
       "2018-07-01  20742.723\n",
       "2018-10-01  20909.853\n",
       "2019-01-01  21115.309\n",
       "2019-04-01  21329.877\n",
       "2019-07-01  21540.325\n",
       "2019-10-01  21747.394\n",
       "2020-01-01  21561.139"
      ]
     },
     "execution_count": 10,
     "metadata": {},
     "output_type": "execute_result"
    }
   ],
   "source": [
    "# Nos importamos la librería 'datetime' para poder trabajar con fechas\n",
    "from datetime import datetime\n",
    "\n",
    "# Pasamos a formato fecha el inicio deseado, en este caso introducido como dd/mm/yyyy\n",
    "inicio_datos = datetime.strptime('01/01/2018', '%d/%m/%Y')\n",
    "\n",
    "# Hacemos lo mismo con el fin deseado\n",
    "fin_datos    = datetime.strptime('01/01/2020', '%d/%m/%Y')\n",
    "\n",
    "# Obtenemos os datos llamando al método de esta manera\n",
    "gdp = pdr.data.DataReader('GDP', 'fred', inicio_datos, fin_datos)\n",
    "\n",
    "# Mostramos los datos obtenidos\n",
    "gdp"
   ]
  },
  {
   "cell_type": "markdown",
   "metadata": {},
   "source": [
    "Debido a la **cantidad de fuentes existentes**, no se mostrará un ejemplo para cada una de ellas; para comprobar los datos que se puede extraer así como la forma de llegar a ellos con esta librería, nos remitimos a la **[documentación](https://pandas-datareader.readthedocs.io/en/latest/remote_data.html)**."
   ]
  },
  {
   "cell_type": "markdown",
   "metadata": {},
   "source": [
    "Por otra parte, cabe hacer especial hincapié en un detalle a tener en cuenta: realizar una misma llamada repetidamente puede usar mucho ancho de banda, hacer más lento nuestro código o, incluso, puede resultar en la prohibición de nuestra IP por la fuente a la que deseamos acceder.\n",
    "<br><br>\n",
    "Para solucionar este problema, **pandas-datareader** nos permite poner en **cache** las peticiones que queramos utilizando **requests_cache**, para poder reutilizar la información sin necesidad de realizar la petición a la Web de nuevo.\n",
    "<br><br> \n",
    "Para ello, se hará uso de la librería **requests_cache**:"
   ]
  },
  {
   "cell_type": "code",
   "execution_count": null,
   "metadata": {},
   "outputs": [],
   "source": [
    "# Nos traemos la librería\n",
    "import requests_cache\n",
    "\n",
    "# Indicamos cuándo expirará el caché\n",
    "tiempo_expiracion = datetime.timedelta(days=3)\n",
    "\n",
    "# Creamos una nueva sesión\n",
    "session = requests_cache.CachedSession(cache_name = 'cache', backend = 'sqlite', expire_after = tiempo_expiracion)\n",
    "\n",
    "# Solamente tendremos que utilizar una argumento adicional en nuestras peticiones \"session\"\n",
    "gdp = pdr.data.DataReader('GDP', 'fred', inicio_datos, fin_datos , session = session)"
   ]
  },
  {
   "cell_type": "markdown",
   "metadata": {},
   "source": [
    "Un archivo de **SQLite** (pues es el *backend* que hemos elegido) se creará en el directorio que estemos trabajando, con la petición hasta la fecha de expiración; para más información, consultar su **[documentación](https://requests-cache.readthedocs.io/en/latest/)**."
   ]
  }
 ],
 "metadata": {
  "kernelspec": {
   "display_name": "Python 3",
   "language": "python",
   "name": "python3"
  },
  "language_info": {
   "codemirror_mode": {
    "name": "ipython",
    "version": 3
   },
   "file_extension": ".py",
   "mimetype": "text/x-python",
   "name": "python",
   "nbconvert_exporter": "python",
   "pygments_lexer": "ipython3",
   "version": "3.7.6"
  }
 },
 "nbformat": 4,
 "nbformat_minor": 2
}
