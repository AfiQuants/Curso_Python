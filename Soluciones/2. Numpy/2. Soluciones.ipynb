{
 "cells": [
  {
   "cell_type": "markdown",
   "metadata": {},
   "source": [
    "# NumPy - Ejercicios (II)"
   ]
  },
  {
   "cell_type": "code",
   "execution_count": 3,
   "metadata": {},
   "outputs": [],
   "source": [
    "import numpy as np"
   ]
  },
  {
   "cell_type": "markdown",
   "metadata": {},
   "source": [
    "### 1. Crea una función que reciba un número n, genere una matriz nxn a partir de una secuencia numérica y escriba la misma en un fichero cuyo nombre se recibirá también como parámetro. Hazlo con ficheros binarios."
   ]
  },
  {
   "cell_type": "code",
   "execution_count": 6,
   "metadata": {},
   "outputs": [
    {
     "data": {
      "text/plain": [
       "array([[ 0,  1,  2,  3,  4],\n",
       "       [ 5,  6,  7,  8,  9],\n",
       "       [10, 11, 12, 13, 14],\n",
       "       [15, 16, 17, 18, 19],\n",
       "       [20, 21, 22, 23, 24]])"
      ]
     },
     "execution_count": 6,
     "metadata": {},
     "output_type": "execute_result"
    }
   ],
   "source": [
    "def matriz(n, nombre):\n",
    "    array = np.arange(n*n).reshape(n,n)\n",
    "    np.save(nombre, array)\n",
    "    return array\n",
    "matriz(5, 'Afi')"
   ]
  },
  {
   "cell_type": "markdown",
   "metadata": {},
   "source": [
    "### 2. Crea una función que reciba el nombre de un fichero binario de NumPy, lo lea como binario, sume el contenido del mismo por filas y guarde el resultado en un fichero de texto con el mismo nombre (pero extensión txt)."
   ]
  },
  {
   "cell_type": "code",
   "execution_count": null,
   "metadata": {
    "collapsed": true
   },
   "outputs": [],
   "source": [
    "def ejercicio(nombre_fichero):\n",
    "    array1=np.load(nombre_fichero) #nombre_fichero + '.npy'\n",
    "    array_suma=np.sum(array1, axis=1)\n",
    "    np.savetxt(nombre_fichero[:-4]+'.txt', array_suma)  #nombre_fichero + '.txt'\n",
    "    \n",
    "ejercicio('Afi.npy')    "
   ]
  },
  {
   "cell_type": "markdown",
   "metadata": {},
   "source": [
    "### 3. Crea una función que reciba dos enteros n y m, genere dos matrices aleatorias (normales 0,1) de dimensiones nxm y mxn y haga el producto escalar de ambas para obtener una matriz nxn. Deberá devolver una tupla con las tres matrices."
   ]
  },
  {
   "cell_type": "code",
   "execution_count": 8,
   "metadata": {},
   "outputs": [
    {
     "data": {
      "text/plain": [
       "(array([[-0.22144017, -0.19131282,  0.38546753, -0.66182299,  0.58461619],\n",
       "        [ 0.34177491, -1.02485124,  0.4242885 , -0.24112764,  1.45405979],\n",
       "        [-0.12580503, -0.49743298, -0.96281998,  0.10850815,  0.16914766],\n",
       "        [-2.09452969, -0.50267644, -1.83771793, -0.24177161,  0.91818074]]),\n",
       " array([[-0.13182475,  1.49002824,  0.31608099, -1.01483055],\n",
       "        [-0.46200227, -2.6782496 , -0.3957459 , -2.91834713],\n",
       "        [-1.51382795,  1.93842207, -0.67281845, -1.05838471],\n",
       "        [-0.56681263, -0.09815837, -0.53643291,  0.26314282],\n",
       "        [ 0.15264775, -0.4157587 , -0.28627338,  1.35355565]]),\n",
       " array([[-1.58329095e-03,  7.51534338e-01, -6.59678527e-02,\n",
       "          9.92225104e-01],\n",
       "        [ 1.44762564e-01,  3.49564258e+00, -5.87697136e-02,\n",
       "          4.09966745e+00],\n",
       "        [ 1.66825939e+00, -8.02530468e-01,  6.98265713e-01,\n",
       "          2.85589074e+00],\n",
       "        [ 3.56753470e+00, -5.69489815e+00,  6.40185203e-01,\n",
       "          6.71677789e+00]]))"
      ]
     },
     "execution_count": 8,
     "metadata": {},
     "output_type": "execute_result"
    }
   ],
   "source": [
    "def ejercicio3 (n,m):\n",
    "    array1= np.random.randn(n*m).reshape(n,m) #np.random.randn(n,m)\n",
    "    array2=np.random.randn(n*m).reshape(m,n)\n",
    "    array3=np.dot(array1,array2)\n",
    "    return(array1,array2,array3)\n",
    "ejercicio3(4,5)\n",
    "\n",
    "\n"
   ]
  },
  {
   "cell_type": "markdown",
   "metadata": {},
   "source": [
    "### 4. Crea una función que reciba una matriz de datos y un entero n y devuelva una muestra (muestreo aleatorio simple) de n elementos."
   ]
  },
  {
   "cell_type": "code",
   "execution_count": 11,
   "metadata": {},
   "outputs": [
    {
     "data": {
      "text/plain": [
       "[3, 3, 4, 3, 3]"
      ]
     },
     "execution_count": 11,
     "metadata": {},
     "output_type": "execute_result"
    }
   ],
   "source": [
    "def fun_ex4 (array,a):\n",
    "    n,m=array.shape\n",
    "    list_ex4 = []\n",
    "    i=0\n",
    "    while i<a:\n",
    "        elemento = array[np.random.randint(0,n), np.random.randint(0,m)]\n",
    "        list_ex4.append(elemento)\n",
    "        i+=1\n",
    "    return list_ex4\n",
    "array1=np.arange(9).reshape(3,3)\n",
    "fun_ex4 (array1,5)\n",
    "\n",
    "\n",
    "\n"
   ]
  },
  {
   "cell_type": "code",
   "execution_count": 15,
   "metadata": {},
   "outputs": [
    {
     "name": "stdout",
     "output_type": "stream",
     "text": [
      "[[-0.01936582  0.48906414 -1.24214273 -0.78001258  1.77402278]\n",
      " [-0.93670006 -0.91937625  0.74154219 -0.69050341  0.99347612]\n",
      " [-0.86079045 -0.4830283   1.24496624 -0.25878635 -0.43274072]\n",
      " [ 0.56144471  0.2968298  -0.19883494  0.40690294  0.03912759]]\n",
      "[2 3 3 2 2 2 2 3 2 0 1 0 3 3 2 0 2 3 0 0 2 3 2 3 3 0 1 2 0 2 3 2 1 3 1 3 1\n",
      " 2 0 3 0 2 3 2 3 3 1 2 0 2]\n",
      "[4 3 0 4 4 1 3 3 2 1 1 0 0 2 4 4 0 0 4 2 4 1 2 0 1 2 3 4 3 2 4 3 3 4 1 3 3\n",
      " 4 4 3 4 2 3 1 1 0 4 3 0 2]\n"
     ]
    },
    {
     "data": {
      "text/plain": [
       "array([-0.43274072,  0.40690294,  0.56144471, -0.43274072, -0.43274072,\n",
       "       -0.4830283 , -0.25878635,  0.40690294,  1.24496624,  0.48906414,\n",
       "       -0.91937625, -0.01936582,  0.56144471, -0.19883494, -0.43274072,\n",
       "        1.77402278, -0.86079045,  0.56144471,  1.77402278, -1.24214273,\n",
       "       -0.43274072,  0.2968298 ,  1.24496624,  0.56144471,  0.2968298 ,\n",
       "       -1.24214273, -0.69050341, -0.43274072, -0.78001258,  1.24496624,\n",
       "        0.03912759, -0.25878635, -0.69050341,  0.03912759, -0.91937625,\n",
       "        0.40690294, -0.69050341, -0.43274072,  1.77402278,  0.40690294,\n",
       "        1.77402278,  1.24496624,  0.40690294, -0.4830283 ,  0.2968298 ,\n",
       "        0.56144471,  0.99347612, -0.25878635, -0.01936582,  1.24496624])"
      ]
     },
     "execution_count": 15,
     "metadata": {},
     "output_type": "execute_result"
    }
   ],
   "source": [
    "def muestreo(matriz,n):\n",
    "    a,b = matriz.shape\n",
    "    muestreo_filas = np.random.randint(0,a,n)\n",
    "    print(muestreo_filas)\n",
    "    muestreo_columnas = np.random.randint(0,b,n)\n",
    "    print(muestreo_columnas)\n",
    "    muestra = matriz[muestreo_filas,muestreo_columnas]\n",
    "    return(muestra)\n",
    "\n",
    "mat = np.random.randn(4,5)\n",
    "print(mat)\n",
    "muestreo(mat,50)"
   ]
  },
  {
   "cell_type": "code",
   "execution_count": 18,
   "metadata": {},
   "outputs": [
    {
     "data": {
      "text/plain": [
       "[-0.1988349409238262,\n",
       " -1.2421427268525778,\n",
       " 0.039127589293051136,\n",
       " 0.5614447063173421,\n",
       " 1.2449662431291246,\n",
       " 0.4890641404932917,\n",
       " 0.4069029386165109,\n",
       " -0.9193762511940359,\n",
       " -0.7800125750184582,\n",
       " -0.9193762511940359]"
      ]
     },
     "execution_count": 18,
     "metadata": {},
     "output_type": "execute_result"
    }
   ],
   "source": [
    "def ejercicio_4(matriz,numero):\n",
    "    muestra = []\n",
    "    elementos = matriz.reshape(matriz.size)\n",
    "    while len(muestra) < numero:\n",
    "        i = np.random.randint(0,matriz.size)\n",
    "        muestra.append(elementos[i])\n",
    "    return (muestra)\n",
    "\n",
    "ejercicio_4(mat,10)"
   ]
  },
  {
   "cell_type": "code",
   "execution_count": 21,
   "metadata": {},
   "outputs": [
    {
     "name": "stdout",
     "output_type": "stream",
     "text": [
      "[[-0.01936582  0.48906414 -1.24214273 -0.78001258  1.77402278]\n",
      " [-0.93670006 -0.91937625  0.74154219 -0.69050341  0.99347612]\n",
      " [-0.86079045 -0.4830283   1.24496624 -0.25878635 -0.43274072]\n",
      " [ 0.56144471  0.2968298  -0.19883494  0.40690294  0.03912759]]\n",
      "[-0.01936582  0.48906414 -1.24214273 -0.78001258  1.77402278 -0.93670006\n",
      " -0.91937625  0.74154219 -0.69050341  0.99347612 -0.86079045 -0.4830283\n",
      "  1.24496624 -0.25878635 -0.43274072  0.56144471  0.2968298  -0.19883494\n",
      "  0.40690294  0.03912759]\n",
      "[13  3 11  8 16 11  5  0  0 13]\n"
     ]
    },
    {
     "data": {
      "text/plain": [
       "array([-0.25878635, -0.78001258, -0.4830283 , -0.69050341,  0.2968298 ,\n",
       "       -0.4830283 , -0.93670006, -0.01936582, -0.01936582, -0.25878635])"
      ]
     },
     "execution_count": 21,
     "metadata": {},
     "output_type": "execute_result"
    }
   ],
   "source": [
    "def ejercicio_4(matriz,numero):\n",
    "    print(matriz)\n",
    "    elementos = matriz.reshape(matriz.size)\n",
    "    print(elementos)\n",
    "    m = np.random.randint(0,matriz.size,numero)\n",
    "    print(m)\n",
    "    muestra = elementos[m]\n",
    "    return muestra\n",
    "\n",
    "ejercicio_4(mat,10)"
   ]
  },
  {
   "cell_type": "code",
   "execution_count": null,
   "metadata": {},
   "outputs": [],
   "source": []
  }
 ],
 "metadata": {
  "anaconda-cloud": {},
  "kernelspec": {
   "display_name": "Python 3",
   "language": "python",
   "name": "python3"
  },
  "language_info": {
   "codemirror_mode": {
    "name": "ipython",
    "version": 3
   },
   "file_extension": ".py",
   "mimetype": "text/x-python",
   "name": "python",
   "nbconvert_exporter": "python",
   "pygments_lexer": "ipython3",
   "version": "3.6.7"
  }
 },
 "nbformat": 4,
 "nbformat_minor": 1
}
