{
 "cells": [
  {
   "cell_type": "markdown",
   "metadata": {},
   "source": [
    "# NumPy - Ejercicios"
   ]
  },
  {
   "cell_type": "markdown",
   "metadata": {},
   "source": [
    "### 1. Crea una matriz 3x3 con valores entre 0 y 8."
   ]
  },
  {
   "cell_type": "code",
   "execution_count": 9,
   "metadata": {},
   "outputs": [
    {
     "data": {
      "text/plain": [
       "array([[0, 1, 2],\n",
       "       [3, 4, 5],\n",
       "       [6, 7, 8]])"
      ]
     },
     "execution_count": 9,
     "metadata": {},
     "output_type": "execute_result"
    }
   ],
   "source": [
    "import numpy as np\n",
    "\n",
    "array = np.arange(0,9).reshape(3,3)\n",
    "array"
   ]
  },
  {
   "cell_type": "markdown",
   "metadata": {},
   "source": [
    "### 2. Crea una matriz 5x5 con los valores 1,2,3,4 debajo de la diagonal principal."
   ]
  },
  {
   "cell_type": "code",
   "execution_count": 12,
   "metadata": {},
   "outputs": [
    {
     "data": {
      "text/plain": [
       "array([[0., 0., 0., 0., 0.],\n",
       "       [1., 0., 0., 0., 0.],\n",
       "       [0., 2., 0., 0., 0.],\n",
       "       [0., 0., 3., 0., 0.],\n",
       "       [0., 0., 0., 4., 0.]])"
      ]
     },
     "execution_count": 12,
     "metadata": {},
     "output_type": "execute_result"
    }
   ],
   "source": [
    "array_identidad= np.eye(5, k=-1)\n",
    "array_identidad[2,1]=2\n",
    "array_identidad[3,2]=3\n",
    "array_identidad[4,3]=4\n",
    "array_identidad"
   ]
  },
  {
   "cell_type": "code",
   "execution_count": 15,
   "metadata": {},
   "outputs": [
    {
     "data": {
      "text/plain": [
       "array([[0., 0., 0., 0., 0.],\n",
       "       [1., 0., 0., 0., 0.],\n",
       "       [0., 2., 0., 0., 0.],\n",
       "       [0., 0., 3., 0., 0.],\n",
       "       [0., 0., 0., 4., 0.]])"
      ]
     },
     "execution_count": 15,
     "metadata": {},
     "output_type": "execute_result"
    }
   ],
   "source": [
    "matriz = np.zeros((5,5))\n",
    "matriz[[1,2,3,4],[0,1,2,3]] = [1,2,3,4]\n",
    "matriz"
   ]
  },
  {
   "cell_type": "code",
   "execution_count": 17,
   "metadata": {},
   "outputs": [
    {
     "data": {
      "text/plain": [
       "array([[0., 0., 0., 0., 0.],\n",
       "       [1., 0., 0., 0., 0.],\n",
       "       [0., 2., 0., 0., 0.],\n",
       "       [0., 0., 3., 0., 0.],\n",
       "       [0., 0., 0., 4., 0.]])"
      ]
     },
     "execution_count": 17,
     "metadata": {},
     "output_type": "execute_result"
    }
   ],
   "source": [
    "array_1 = np.eye(5, k=-1)\n",
    "array_2 = np.array([1,2,3,4,0])\n",
    "array_3 = array_1 * array_2\n",
    "array_3"
   ]
  },
  {
   "cell_type": "code",
   "execution_count": 16,
   "metadata": {},
   "outputs": [
    {
     "data": {
      "text/plain": [
       "array([[0., 0., 0., 0., 0.],\n",
       "       [1., 0., 0., 0., 0.],\n",
       "       [0., 2., 0., 0., 0.],\n",
       "       [0., 0., 3., 0., 0.],\n",
       "       [0., 0., 0., 4., 0.]])"
      ]
     },
     "execution_count": 16,
     "metadata": {},
     "output_type": "execute_result"
    }
   ],
   "source": [
    "array_1 = np.eye(5, k = -1)\n",
    "array_1[array_1 == 1] = [1,2,3,4]\n",
    "array_1"
   ]
  },
  {
   "cell_type": "code",
   "execution_count": null,
   "metadata": {},
   "outputs": [],
   "source": [
    "array_identidad= np.eye(5, k=-1)\n",
    "array_identidad[2]=array_identidad[2] * 2\n",
    "array_identidad[3]=array_identidad[3]*3\n",
    "array_identidad[3]=array_identidad[4]*4\n",
    "array_identidad"
   ]
  },
  {
   "cell_type": "code",
   "execution_count": 13,
   "metadata": {},
   "outputs": [
    {
     "data": {
      "text/plain": [
       "array([[0, 0, 0, 0, 0],\n",
       "       [1, 0, 0, 0, 0],\n",
       "       [0, 2, 0, 0, 0],\n",
       "       [0, 0, 3, 0, 0],\n",
       "       [0, 0, 0, 4, 0]])"
      ]
     },
     "execution_count": 13,
     "metadata": {},
     "output_type": "execute_result"
    }
   ],
   "source": [
    "np.diag([1,2,3,4], k = -1)"
   ]
  },
  {
   "cell_type": "markdown",
   "metadata": {},
   "source": [
    "### 3. Crea una función que reciba como parámetro un número n y devuelva una matriz cuadrada (dos dimensiones) de nxn donde los elementos de la matriz principal valgan 1 y el resto valgan n."
   ]
  },
  {
   "cell_type": "code",
   "execution_count": 20,
   "metadata": {},
   "outputs": [
    {
     "name": "stdout",
     "output_type": "stream",
     "text": [
      "[[1. 5. 5. 5. 5.]\n",
      " [5. 1. 5. 5. 5.]\n",
      " [5. 5. 1. 5. 5.]\n",
      " [5. 5. 5. 1. 5.]\n",
      " [5. 5. 5. 5. 1.]]\n"
     ]
    }
   ],
   "source": [
    "def array_ex_3(n):\n",
    "    array_ex_3 = np.eye(n)\n",
    "    array_ex_3[array_ex_3 == 0] = n \n",
    "    \n",
    "    return  array_ex_3\n",
    "\n",
    "print(array_ex_3(5))"
   ]
  },
  {
   "cell_type": "code",
   "execution_count": 22,
   "metadata": {},
   "outputs": [
    {
     "data": {
      "text/plain": [
       "array([[1., 5., 5., 5., 5.],\n",
       "       [5., 1., 5., 5., 5.],\n",
       "       [5., 5., 1., 5., 5.],\n",
       "       [5., 5., 5., 1., 5.],\n",
       "       [5., 5., 5., 5., 1.]])"
      ]
     },
     "execution_count": 22,
     "metadata": {},
     "output_type": "execute_result"
    }
   ],
   "source": [
    "def ejercicio_3(n):\n",
    "    matriz = np.ones((n,n)) * n\n",
    "    np.fill_diagonal(matriz,1)\n",
    "    return (matriz)\n",
    "ejercicio_3(5)"
   ]
  },
  {
   "cell_type": "code",
   "execution_count": 23,
   "metadata": {},
   "outputs": [
    {
     "data": {
      "text/plain": [
       "array([[1., 5., 5., 5., 5.],\n",
       "       [5., 1., 5., 5., 5.],\n",
       "       [5., 5., 1., 5., 5.],\n",
       "       [5., 5., 5., 1., 5.],\n",
       "       [5., 5., 5., 5., 1.]])"
      ]
     },
     "execution_count": 23,
     "metadata": {},
     "output_type": "execute_result"
    }
   ],
   "source": [
    "def ejercicio_3(n):\n",
    "    matriz = np.ones((n,n)) * n\n",
    "    matriz = matriz - np.identity(n)*(n-1)\n",
    "    return matriz\n",
    "\n",
    "ejercicio_3(5)"
   ]
  },
  {
   "cell_type": "code",
   "execution_count": 2,
   "metadata": {},
   "outputs": [],
   "source": [
    "import numpy as np"
   ]
  },
  {
   "cell_type": "markdown",
   "metadata": {},
   "source": [
    "### 4. Crea una función que reciba dos números n y m que definirán ancho y alto de una matriz de nxm elementos numéricos secuenciales y un booleano que definirá si se debe devolver la matriz generada (False) o su traspuesta (True)."
   ]
  },
  {
   "cell_type": "code",
   "execution_count": 3,
   "metadata": {},
   "outputs": [
    {
     "data": {
      "text/plain": [
       "array([[ 0,  1,  2,  3,  4],\n",
       "       [ 5,  6,  7,  8,  9],\n",
       "       [10, 11, 12, 13, 14],\n",
       "       [15, 16, 17, 18, 19]])"
      ]
     },
     "execution_count": 3,
     "metadata": {},
     "output_type": "execute_result"
    }
   ],
   "source": [
    "def matriz(n,m, traspuesta):\n",
    "    matriz_1=np.arange(0,n*m)\n",
    "    matriz_2=matriz_1.reshape(n,m)\n",
    "    if traspuesta:\n",
    "        return matriz_2.T\n",
    "    else:\n",
    "        return matriz_2\n",
    "    \n",
    "matriz(4,5,False)"
   ]
  },
  {
   "cell_type": "markdown",
   "metadata": {},
   "source": [
    "### 5. Crea una función que reciba dos arrays y genere un array que tenga 0 en todos los elementos y 1 en aquellos elementos del primer array que sean mayores que su equivalente del segundo array."
   ]
  },
  {
   "cell_type": "code",
   "execution_count": 8,
   "metadata": {},
   "outputs": [
    {
     "data": {
      "text/plain": [
       "array([[1, 1],\n",
       "       [0, 0]])"
      ]
     },
     "execution_count": 8,
     "metadata": {},
     "output_type": "execute_result"
    }
   ],
   "source": [
    "def doble_array (array1, array2):\n",
    "    array3 = np.empty_like(array1) # np.empty(array1.shape)\n",
    "    array3[array1 > array2] = 1\n",
    "    array3[array1 <= array2] = 0\n",
    "    return array3\n",
    "\n",
    "doble_array (np.array([[3,5],[2,2]]), np.array([[2,2],[8,8]]))"
   ]
  },
  {
   "cell_type": "code",
   "execution_count": null,
   "metadata": {},
   "outputs": [],
   "source": [
    "def doble_array (array1, array2):\n",
    "    array3 = np.zeros_like(array1) # np.zeros(array1.shape)\n",
    "    array3[array1 > array2] = 1\n",
    "    return array3\n"
   ]
  },
  {
   "cell_type": "code",
   "execution_count": 9,
   "metadata": {},
   "outputs": [],
   "source": [
    "def ejercicio5(array_1,array_2):\n",
    "    array_3=array_1>array_2\n",
    "    array_4=np.array(array_3, dtype=np.int8)\n",
    "    return array_4"
   ]
  },
  {
   "cell_type": "markdown",
   "metadata": {
    "collapsed": true
   },
   "source": [
    "### 6. Crea una función que reciba un array y una tupla de enteros y devuelva la matriz resultante de seleccionar los índices de la tupla aplicados desde el final."
   ]
  },
  {
   "cell_type": "code",
   "execution_count": 11,
   "metadata": {},
   "outputs": [
    {
     "name": "stdout",
     "output_type": "stream",
     "text": [
      "[[-1.57759398 -1.81286255  2.99780851 -0.09115207]\n",
      " [-0.11539132  1.17114408  0.53318104 -0.16539265]\n",
      " [-1.13773899  0.94320294  0.5636784  -0.3592956 ]\n",
      " [-1.15636182  0.76753663  0.54604084  0.68437726]\n",
      " [ 0.48875272  0.37858245  0.74001313  0.85257251]\n",
      " [-0.72356253 -1.46022264 -1.03207395  1.27874088]\n",
      " [-1.14776473  0.13525921 -0.13950328 -0.29280242]\n",
      " [-0.05340892  0.31454825  1.44982422 -1.08944671]]\n",
      "[-5, -3, -6]\n"
     ]
    },
    {
     "data": {
      "text/plain": [
       "array([[-1.15636182,  0.76753663,  0.54604084,  0.68437726],\n",
       "       [-0.72356253, -1.46022264, -1.03207395,  1.27874088],\n",
       "       [-1.13773899,  0.94320294,  0.5636784 , -0.3592956 ]])"
      ]
     },
     "execution_count": 11,
     "metadata": {},
     "output_type": "execute_result"
    }
   ],
   "source": [
    "def filasfinal(array,tupla_filas):\n",
    "    n,m = array.shape\n",
    "    lista_filas = list(tupla_filas)\n",
    "    if max(lista_filas) > n:\n",
    "        return ('La tupla tiene algún índce mayor que el número de filas')\n",
    "    else:\n",
    "        lista_filas_final = [- fila for fila in lista_filas]\n",
    "        return(array[lista_filas_final])\n",
    "    \n",
    "array = np.random.randn(8,4)\n",
    "tupla = (5,3,6)\n",
    "print(array)\n",
    "filasfinal(array,tupla)"
   ]
  },
  {
   "cell_type": "markdown",
   "metadata": {},
   "source": [
    "### 7. Replica la función del ejercicio 5 utilizando la función np.where"
   ]
  },
  {
   "cell_type": "code",
   "execution_count": 13,
   "metadata": {},
   "outputs": [
    {
     "data": {
      "text/plain": [
       "array([[1, 0, 0, 1],\n",
       "       [1, 0, 1, 1],\n",
       "       [0, 1, 0, 0],\n",
       "       [1, 1, 0, 0]])"
      ]
     },
     "execution_count": 13,
     "metadata": {},
     "output_type": "execute_result"
    }
   ],
   "source": [
    "def ejercicio_7(array5_1, array5_2):\n",
    "    return np.where(array_5_1 > array_5_2, 1,0)\n",
    "\n",
    "array_5_1 = np.random.randn(4,4)\n",
    "array_5_2 = np.random.randn(4,4)\n",
    "ejercicio_7(array_5_1,array_5_2)"
   ]
  },
  {
   "cell_type": "markdown",
   "metadata": {},
   "source": [
    "### 8. Crea una función que reciba una matriz y chequee si hay o no algún valor negativo en la misma."
   ]
  },
  {
   "cell_type": "code",
   "execution_count": 33,
   "metadata": {},
   "outputs": [
    {
     "data": {
      "text/plain": [
       "True"
      ]
     },
     "execution_count": 33,
     "metadata": {},
     "output_type": "execute_result"
    }
   ],
   "source": [
    "def ejercicio_8(array_8):\n",
    "    if (array_8 < 0).sum() != 0: #np.sum(array_8 < 0)\n",
    "        return \"Hay un valor negativo\"\n",
    "    else:\n",
    "        return \"No hay un valor negativo\"\n",
    "    \n",
    "def ejercicio_8(array_8):\n",
    "    if (array_8 < 0).any(): #np.sum(array_8 < 0)\n",
    "        return \"Hay un valor negativo\"\n",
    "    else:\n",
    "        return \"No hay un valor negativo\"\n",
    "    \n",
    "    \n",
    "def ejercicio_8(array_8):\n",
    "    return (array_8 < 0).any()\n",
    "\n",
    "array_8 = np.random.randn(4,4)\n",
    "ejercicio_8(array_8)"
   ]
  },
  {
   "cell_type": "markdown",
   "metadata": {},
   "source": [
    "### 9. Crea una función que utilizando la del ejercicio anterior, sume el valor absoluto de todos los elementos negativos de una matriz recibida como parámetro o devuelve \"No hay negativos\" en caso de que no los haya."
   ]
  },
  {
   "cell_type": "code",
   "execution_count": 23,
   "metadata": {},
   "outputs": [
    {
     "data": {
      "text/plain": [
       "5"
      ]
     },
     "execution_count": 23,
     "metadata": {},
     "output_type": "execute_result"
    }
   ],
   "source": [
    "def funcion(a):\n",
    "    if ejercicio_8(a):\n",
    "        b = np.where(a<0,np.abs(a),0) \n",
    "        return np.sum(b) \n",
    "         \n",
    "    else:\n",
    "        return 'No hay negativos'\n",
    "    \n",
    "funcion(np.array([0,3,-4,-1,9]))\n",
    "\n",
    "def funcion(a):\n",
    "    if ejercicio_8(a):\n",
    "        return -np.sum(array[array < 0])\n",
    "         \n",
    "    else:\n",
    "        return 'No hay negativos'"
   ]
  },
  {
   "cell_type": "markdown",
   "metadata": {},
   "source": [
    "### 10. Crea una función que reciba dos matrices y devuelva la secuencia ordenada de la union de los elementos únicos de ambas."
   ]
  },
  {
   "cell_type": "code",
   "execution_count": null,
   "metadata": {
    "collapsed": true
   },
   "outputs": [],
   "source": [
    "def union(array1, array2):\n",
    "    return np.union1d(array1,array2)"
   ]
  },
  {
   "cell_type": "markdown",
   "metadata": {},
   "source": [
    "### 11. Crea una función que reciba una matriz unidimensional con nombres, una matriz con el mismo ancho que la matriz de nombres que contenga valores numéricos y un nombre de los de la primera lista. Deberá devolver, en una tupla, los descriptivos (mínimo, máximo, media, mediana y desviación típica) del vector de valores \"asociado\" al nombre seleccionado por posición. Ten en cuenta que el nombre introducido puede no estar en el listado y contrólalo."
   ]
  },
  {
   "cell_type": "code",
   "execution_count": 41,
   "metadata": {},
   "outputs": [
    {
     "name": "stdout",
     "output_type": "stream",
     "text": [
      "(-1.2248285355325208, 1.229659988262854, 0.01892412209714324, 0.08538476439638658, 0.7123988849157867)\n"
     ]
    }
   ],
   "source": [
    "def descriptivos(nombres,numerico,nombre):\n",
    "    if nombre not in nombres:\n",
    "        return \"El nombre no existe\"\n",
    "    else:\n",
    "        num_col = numerico.shape[1]\n",
    "        if num_col != nombres.size:\n",
    "            return \"Los tamaños de los arrays no coinciden\"\n",
    "        else:\n",
    "            nombre_selec= numerico[:, nombres==nombre] #numerico.T[nombres==nombre]\n",
    "            datos=(np.min(nombre_selec),np.max(nombre_selec),np.median(nombre_selec),np.mean(nombre_selec),np.std(nombre_selec))\n",
    "            return datos\n",
    "\n",
    "nombres_ej=np.array([\"a\",\"b\",\"c\",\"d\"])\n",
    "numerico_ej=np.random.randn(8,4)\n",
    "nombre_ej=\"a\"\n",
    "\n",
    "descriptivos(nombres_ej,numerico_ej,nombre_ej)\n"
   ]
  },
  {
   "cell_type": "code",
   "execution_count": null,
   "metadata": {},
   "outputs": [],
   "source": []
  }
 ],
 "metadata": {
  "anaconda-cloud": {},
  "kernelspec": {
   "display_name": "Python 3",
   "language": "python",
   "name": "python3"
  },
  "language_info": {
   "codemirror_mode": {
    "name": "ipython",
    "version": 3
   },
   "file_extension": ".py",
   "mimetype": "text/x-python",
   "name": "python",
   "nbconvert_exporter": "python",
   "pygments_lexer": "ipython3",
   "version": "3.6.7"
  }
 },
 "nbformat": 4,
 "nbformat_minor": 1
}
