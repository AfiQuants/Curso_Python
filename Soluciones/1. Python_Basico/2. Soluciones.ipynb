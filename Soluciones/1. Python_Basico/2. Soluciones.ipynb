{
 "cells": [
  {
   "cell_type": "markdown",
   "metadata": {},
   "source": [
    "### 1. Escriba un programa que pida dos números enteros y que calcule su división, escribiendo si la división es exacta o no."
   ]
  },
  {
   "cell_type": "code",
   "execution_count": 2,
   "metadata": {},
   "outputs": [
    {
     "name": "stdout",
     "output_type": "stream",
     "text": [
      "Dame el numerador: 4\n",
      "Dame el denominador: 2\n",
      "2.0\n",
      "La division SÍ es exacta\n"
     ]
    }
   ],
   "source": [
    "numerador = input(\"Dame el numerador: \")\n",
    "denominador = input(\"Dame el denominador: \")\n",
    "resultado = int(numerador)/int(denominador)\n",
    "print(resultado)\n",
    "if int(numerador)%int(denominador) > 0:\n",
    "    print(\"La division NO es exacta\")\n",
    "else:\n",
    "     print(\"La division SÍ es exacta\")"
   ]
  },
  {
   "cell_type": "markdown",
   "metadata": {},
   "source": [
    "### 2. Escriba un programa que pida dos números y que conteste cuál es el menor y cuál el mayor o que escriba que son iguales."
   ]
  },
  {
   "cell_type": "code",
   "execution_count": 4,
   "metadata": {},
   "outputs": [
    {
     "name": "stdout",
     "output_type": "stream",
     "text": [
      "Dame un numuero: 4\n",
      "Dame otro numero: 2\n",
      "El primer número es mayor\n"
     ]
    }
   ],
   "source": [
    "numero1 = int(input(\"Dame un numuero: \"))\n",
    "numero2 = int(input(\"Dame otro numero: \"))\n",
    "if numero1 > numero2:\n",
    "    print(\"El primer número es mayor\")\n",
    "elif numero1 < numero2:\n",
    "    print(\"El segundo número es mayor\")\n",
    "else:\n",
    "    print(\"Son iguales\")"
   ]
  },
  {
   "cell_type": "markdown",
   "metadata": {},
   "source": [
    "### 3. Escriba un programa que pida dos números enteros y que escriba si el mayor es múltiplo del menor."
   ]
  },
  {
   "cell_type": "code",
   "execution_count": 5,
   "metadata": {},
   "outputs": [
    {
     "name": "stdout",
     "output_type": "stream",
     "text": [
      "Dame un numuero: 8\n",
      "Dame otro numero: 4\n",
      "es multiplo del menor\n"
     ]
    }
   ],
   "source": [
    "numero1 = int(input(\"Dame un numuero: \"))\n",
    "numero2 = int(input(\"Dame otro numero: \"))\n",
    "if numero1 > numero2:\n",
    "    if numero1 % numero2 == 0:\n",
    "        print(\"es multiplo del menor\")\n",
    "    else:\n",
    "        print(\"no es multiplo del menor\")\n",
    "elif numero1 < numero2:\n",
    "    if numero2 % numero1 == 0:\n",
    "        print(\"es multiplo del menor\")\n",
    "    else:\n",
    "        print(\"no es multiplo del menor\")   \n",
    "else:\n",
    "    print(\"Son iguales\")"
   ]
  },
  {
   "cell_type": "code",
   "execution_count": 16,
   "metadata": {},
   "outputs": [
    {
     "name": "stdout",
     "output_type": "stream",
     "text": [
      "Escribe 2 numeros enteros: 2,2\n",
      "los numeros son iguales\n"
     ]
    }
   ],
   "source": [
    "numero = input(\"Escribe 2 numeros enteros: \").split(',')\n",
    "numero[0] = int(numero[0])\n",
    "numero[1] = int(numero[1])\n",
    "num_max = max(numero)\n",
    "num_min = min(numero)\n",
    "\n",
    "if num_max == num_min:\n",
    "    print(\"los numeros son iguales\")\n",
    "else:  \n",
    "    if num_max % num_min == 0:\n",
    "        print(\"El mayor es el multiplo del menor\")\n",
    "    else: \n",
    "        print(\"El mayor no es multiplo del menor\")"
   ]
  },
  {
   "cell_type": "markdown",
   "metadata": {},
   "source": [
    "### 4.  Escriba un programa que pida la edad de una persona y diga si es bebé (menor de 4 años), niño (menor de 15 años), adolescente (menor de 19 años), adulto (menor de 70 años o igual) o anciano (mayor de 70 años)."
   ]
  },
  {
   "cell_type": "code",
   "execution_count": 18,
   "metadata": {},
   "outputs": [
    {
     "name": "stdout",
     "output_type": "stream",
     "text": [
      "Introducir edad: 7\n",
      "niño\n"
     ]
    }
   ],
   "source": [
    "edad = int(input(\"Introducir edad: \"))\n",
    "if edad < 0:\n",
    "    print (\"No es posible esa edad, vuelva a probar\")\n",
    "elif  edad <4:\n",
    "    print (\"bebe\")\n",
    "elif  edad <15:\n",
    "    print (\"niño\")\n",
    "elif  edad <19:\n",
    "    print (\"adolescente\")\n",
    "elif edad <= 70 :\n",
    "    print (\" adulto\")\n",
    "else:\n",
    "    print(\"anciano\")"
   ]
  },
  {
   "cell_type": "markdown",
   "metadata": {},
   "source": [
    "### 5. Escriba un programa que pida un número entero mayor que cero y que escriba sus divisores."
   ]
  },
  {
   "cell_type": "code",
   "execution_count": 22,
   "metadata": {},
   "outputs": [
    {
     "name": "stdout",
     "output_type": "stream",
     "text": [
      "Escribe un número: 60\n",
      "1\n",
      "2\n",
      "3\n",
      "4\n",
      "5\n",
      "6\n",
      "10\n",
      "12\n",
      "15\n",
      "20\n",
      "30\n",
      "60\n"
     ]
    }
   ],
   "source": [
    "num=int(input(\"Escribe un número: \"))\n",
    "\n",
    "for i in range(1,num+1):\n",
    "    if num%i==0:\n",
    "        print(i)\n"
   ]
  },
  {
   "cell_type": "markdown",
   "metadata": {},
   "source": [
    "### 6. Escriba un programa que pida un número entero mayor que 1 y que escriba si el número es un número primo o no."
   ]
  },
  {
   "cell_type": "code",
   "execution_count": 25,
   "metadata": {},
   "outputs": [
    {
     "name": "stdout",
     "output_type": "stream",
     "text": [
      "Escriba un N>1: 11\n",
      "Es un número primo\n"
     ]
    }
   ],
   "source": [
    "num = int(input('Escriba un N>1: '))\n",
    "for i in range(2,num):\n",
    "    if num%i ==0:\n",
    "        print ('No es un número primo')\n",
    "        break\n",
    "if (i+1) == num:\n",
    "    print ('Es un número primo')"
   ]
  },
  {
   "cell_type": "code",
   "execution_count": null,
   "metadata": {
    "collapsed": true
   },
   "outputs": [],
   "source": [
    "n = int(input('Escriba un N>1: '))\n",
    "k = 0\n",
    "\n",
    "for i in range(1,n+1):\n",
    "    if n % i == 0:\n",
    "        k += 1\n",
    "        \n",
    "if k == 2:\n",
    "    print('primo')\n",
    "else:\n",
    "    print('No primo')"
   ]
  },
  {
   "cell_type": "markdown",
   "metadata": {},
   "source": [
    "### 7. Escribir un programa que pida un número y calcule la suma desde 1 hasta ese número"
   ]
  },
  {
   "cell_type": "code",
   "execution_count": 28,
   "metadata": {},
   "outputs": [
    {
     "name": "stdout",
     "output_type": "stream",
     "text": [
      "Introduzca un número5\n",
      "15\n"
     ]
    }
   ],
   "source": [
    "num_7 = input(\"Introduzca un número\")\n",
    "\n",
    "lista_7 = list(range(1, int(num_7) + 1))\n",
    "suma1 = 0\n",
    "for numero in lista_7:\n",
    "    suma1 += numero\n",
    "print(suma1)"
   ]
  },
  {
   "cell_type": "code",
   "execution_count": 34,
   "metadata": {},
   "outputs": [
    {
     "data": {
      "text/plain": [
       "range(1, 40)"
      ]
     },
     "execution_count": 34,
     "metadata": {},
     "output_type": "execute_result"
    }
   ],
   "source": [
    "range(1,40)"
   ]
  },
  {
   "cell_type": "markdown",
   "metadata": {},
   "source": [
    "### 8. Imrpime por pantalla la sucesión de Fibonacci de los 100 primeros números."
   ]
  },
  {
   "cell_type": "code",
   "execution_count": 1,
   "metadata": {},
   "outputs": [
    {
     "data": {
      "text/plain": [
       "[1,\n",
       " 1,\n",
       " 2,\n",
       " 3,\n",
       " 5,\n",
       " 8,\n",
       " 13,\n",
       " 21,\n",
       " 34,\n",
       " 55,\n",
       " 89,\n",
       " 144,\n",
       " 233,\n",
       " 377,\n",
       " 610,\n",
       " 987,\n",
       " 1597,\n",
       " 2584,\n",
       " 4181,\n",
       " 6765,\n",
       " 10946,\n",
       " 17711,\n",
       " 28657,\n",
       " 46368,\n",
       " 75025,\n",
       " 121393,\n",
       " 196418,\n",
       " 317811,\n",
       " 514229,\n",
       " 832040,\n",
       " 1346269,\n",
       " 2178309,\n",
       " 3524578,\n",
       " 5702887,\n",
       " 9227465,\n",
       " 14930352,\n",
       " 24157817,\n",
       " 39088169,\n",
       " 63245986,\n",
       " 102334155,\n",
       " 165580141,\n",
       " 267914296,\n",
       " 433494437,\n",
       " 701408733,\n",
       " 1134903170,\n",
       " 1836311903,\n",
       " 2971215073,\n",
       " 4807526976,\n",
       " 7778742049,\n",
       " 12586269025,\n",
       " 20365011074,\n",
       " 32951280099,\n",
       " 53316291173,\n",
       " 86267571272,\n",
       " 139583862445,\n",
       " 225851433717,\n",
       " 365435296162,\n",
       " 591286729879,\n",
       " 956722026041,\n",
       " 1548008755920,\n",
       " 2504730781961,\n",
       " 4052739537881,\n",
       " 6557470319842,\n",
       " 10610209857723,\n",
       " 17167680177565,\n",
       " 27777890035288,\n",
       " 44945570212853,\n",
       " 72723460248141,\n",
       " 117669030460994,\n",
       " 190392490709135,\n",
       " 308061521170129,\n",
       " 498454011879264,\n",
       " 806515533049393,\n",
       " 1304969544928657,\n",
       " 2111485077978050,\n",
       " 3416454622906707,\n",
       " 5527939700884757,\n",
       " 8944394323791464,\n",
       " 14472334024676221,\n",
       " 23416728348467685,\n",
       " 37889062373143906,\n",
       " 61305790721611591,\n",
       " 99194853094755497,\n",
       " 160500643816367088,\n",
       " 259695496911122585,\n",
       " 420196140727489673,\n",
       " 679891637638612258,\n",
       " 1100087778366101931,\n",
       " 1779979416004714189,\n",
       " 2880067194370816120,\n",
       " 4660046610375530309,\n",
       " 7540113804746346429,\n",
       " 12200160415121876738,\n",
       " 19740274219868223167,\n",
       " 31940434634990099905,\n",
       " 51680708854858323072,\n",
       " 83621143489848422977,\n",
       " 135301852344706746049,\n",
       " 218922995834555169026,\n",
       " 354224848179261915075]"
      ]
     },
     "execution_count": 1,
     "metadata": {},
     "output_type": "execute_result"
    }
   ],
   "source": [
    "lista8 = []\n",
    "x = 0\n",
    "y = 1\n",
    "for i in range(1,101):\n",
    "    x,y = y,x+y\n",
    "    lista8.append(x)\n",
    "lista8"
   ]
  },
  {
   "cell_type": "code",
   "execution_count": 5,
   "metadata": {},
   "outputs": [
    {
     "name": "stdout",
     "output_type": "stream",
     "text": [
      "[0, 1, 1, 2, 3, 5, 8, 13, 21, 34, 55, 89, 144, 233, 377, 610, 987, 1597, 2584, 4181, 6765, 10946, 17711, 28657, 46368, 75025, 121393, 196418, 317811, 514229, 832040, 1346269, 2178309, 3524578, 5702887, 9227465, 14930352, 24157817, 39088169, 63245986, 102334155, 165580141, 267914296, 433494437, 701408733, 1134903170, 1836311903, 2971215073, 4807526976, 7778742049, 12586269025, 20365011074, 32951280099, 53316291173, 86267571272, 139583862445, 225851433717, 365435296162, 591286729879, 956722026041, 1548008755920, 2504730781961, 4052739537881, 6557470319842, 10610209857723, 17167680177565, 27777890035288, 44945570212853, 72723460248141, 117669030460994, 190392490709135, 308061521170129, 498454011879264, 806515533049393, 1304969544928657, 2111485077978050, 3416454622906707, 5527939700884757, 8944394323791464, 14472334024676221, 23416728348467685, 37889062373143906, 61305790721611591, 99194853094755497, 160500643816367088, 259695496911122585, 420196140727489673, 679891637638612258, 1100087778366101931, 1779979416004714189, 2880067194370816120, 4660046610375530309, 7540113804746346429, 12200160415121876738, 19740274219868223167, 31940434634990099905, 51680708854858323072, 83621143489848422977, 135301852344706746049, 218922995834555169026]\n"
     ]
    }
   ],
   "source": [
    "l = list(range((100))) #l = []\n",
    "l[0]=0\n",
    "l[1]=1  \n",
    "\n",
    "for i in range(2,100):\n",
    "        l[i] = l[i-2] + l[i-1]\n",
    "\n",
    "print(l)"
   ]
  },
  {
   "cell_type": "markdown",
   "metadata": {},
   "source": [
    "### 9. Sumar los números impares del 1 al 100 y mostrar sólo el resultado, usando while."
   ]
  },
  {
   "cell_type": "code",
   "execution_count": 6,
   "metadata": {},
   "outputs": [
    {
     "name": "stdout",
     "output_type": "stream",
     "text": [
      "2500\n"
     ]
    }
   ],
   "source": [
    "i=0\n",
    "impares = []\n",
    "while i<100:\n",
    "    i = i+1\n",
    "    if i%2==0:continue\n",
    "    else: impares.append(i)\n",
    "print (sum(impares))"
   ]
  },
  {
   "cell_type": "code",
   "execution_count": 8,
   "metadata": {},
   "outputs": [
    {
     "name": "stdout",
     "output_type": "stream",
     "text": [
      "2500\n"
     ]
    }
   ],
   "source": [
    "cont=0\n",
    "for i in range(101):\n",
    "    if i%2!=0:\n",
    "        cont+=i\n",
    "\n",
    "print(cont)"
   ]
  },
  {
   "cell_type": "markdown",
   "metadata": {},
   "source": [
    "### 10.  Crea una lista de nombres y devuelve otra lista con las iniciales de los nombres que aparecen en la primera. Hazlo de dos formas: usando bucles y usando lista por compresión.\n"
   ]
  },
  {
   "cell_type": "code",
   "execution_count": 10,
   "metadata": {},
   "outputs": [
    {
     "name": "stdout",
     "output_type": "stream",
     "text": [
      "['H', 'A', 'I', 'M']\n"
     ]
    }
   ],
   "source": [
    "lista= [\"Héctor\",\"Ana\",\"Irene\",\"Manolo\"]\n",
    "iniciales=[]\n",
    "for elem in lista:\n",
    "    iniciales.append(elem[0])\n",
    "print(iniciales)"
   ]
  },
  {
   "cell_type": "code",
   "execution_count": 12,
   "metadata": {},
   "outputs": [
    {
     "data": {
      "text/plain": [
       "['H', 'A', 'I', 'M']"
      ]
     },
     "execution_count": 12,
     "metadata": {},
     "output_type": "execute_result"
    }
   ],
   "source": [
    "iniciales1= [elem[0] for elem in lista]\n",
    "iniciales1"
   ]
  },
  {
   "cell_type": "markdown",
   "metadata": {},
   "source": [
    "### 11.  Crea una lista de nombres y apellidos, y devuelve otra lista sólo con los apellidos."
   ]
  },
  {
   "cell_type": "code",
   "execution_count": 17,
   "metadata": {},
   "outputs": [
    {
     "name": "stdout",
     "output_type": "stream",
     "text": [
      "[[\"Peña',\", \"Martinez',\", \"Berizzo']\"]]\n",
      "[\"['Rodrigo\", \"Peña',\", \"'Maria\", \"Martinez',\", \"'Roberto\", \"Berizzo']\"]\n"
     ]
    }
   ],
   "source": [
    "lista_11 = ['Rodrigo Peña', 'Maria Martinez', 'Roberto Berizzo']\n",
    "cadena_11 = str(lista_11)\n",
    "a = cadena_11.split(' ')\n",
    "lista_111 = []\n",
    "lista_111.append(a[1::2])\n",
    "\n",
    "print(lista_111)\n",
    "print(a)"
   ]
  },
  {
   "cell_type": "code",
   "execution_count": 22,
   "metadata": {},
   "outputs": [
    {
     "data": {
      "text/plain": [
       "['Peña', 'Martinez', 'Berizzo']"
      ]
     },
     "execution_count": 22,
     "metadata": {},
     "output_type": "execute_result"
    }
   ],
   "source": [
    "apellidos = []\n",
    "for nombre in lista_11:\n",
    "    a = nombre.split(' ')[1]\n",
    "    apellidos.append(a)\n",
    "apellidos"
   ]
  },
  {
   "cell_type": "code",
   "execution_count": 25,
   "metadata": {},
   "outputs": [
    {
     "data": {
      "text/plain": [
       "['Peña', 'Martinez', 'Berizzo']"
      ]
     },
     "execution_count": 25,
     "metadata": {},
     "output_type": "execute_result"
    }
   ],
   "source": [
    "apellidos = [nombre.split(' ')[1] for nombre in lista_11]\n",
    "apellidos"
   ]
  },
  {
   "cell_type": "markdown",
   "metadata": {},
   "source": [
    "### 12. Crea un diccionario de nombres de alumnos y notas y devuelve los nombres de los alumnos que estén suspensos."
   ]
  },
  {
   "cell_type": "code",
   "execution_count": 30,
   "metadata": {},
   "outputs": [
    {
     "name": "stdout",
     "output_type": "stream",
     "text": [
      "Pedro\n",
      "Maria\n"
     ]
    }
   ],
   "source": [
    "dicc1 = {\"Juan\": 5, \"Pedro\": 4, \"Irene\": 8, \"Maria\":2}\n",
    "for item in dicc1.keys():\n",
    "    if dicc1[item] < 5:\n",
    "        print(item)"
   ]
  },
  {
   "cell_type": "code",
   "execution_count": 31,
   "metadata": {},
   "outputs": [
    {
     "data": {
      "text/plain": [
       "['Pedro', 'Maria']"
      ]
     },
     "execution_count": 31,
     "metadata": {},
     "output_type": "execute_result"
    }
   ],
   "source": [
    "dicc1 = {\"Juan\": 5, \"Pedro\": 4, \"Irene\": 8, \"Maria\":2}\n",
    "suspensos = [item for item in dicc1 if dicc1[item] < 5]\n",
    "suspensos"
   ]
  },
  {
   "cell_type": "markdown",
   "metadata": {},
   "source": [
    "### 13. Crea un programa que pida al usuario dos números y haga su división. Haz control de excepciones para que avise al usuario si el denominador es cero. "
   ]
  },
  {
   "cell_type": "code",
   "execution_count": 40,
   "metadata": {},
   "outputs": [
    {
     "name": "stdout",
     "output_type": "stream",
     "text": [
      "No se puede hacer la división\n"
     ]
    }
   ],
   "source": [
    "def fun (num1,num2):\n",
    "    try:\n",
    "         resultado= num1/num2\n",
    "        return resultado\n",
    "    except:\n",
    "        print(\"No se puede hacer la división\")\n",
    "fun(\"hola\",2)"
   ]
  },
  {
   "cell_type": "code",
   "execution_count": 42,
   "metadata": {},
   "outputs": [
    {
     "name": "stdout",
     "output_type": "stream",
     "text": [
      "No se puede hacer la división porque el denominador es 0\n"
     ]
    }
   ],
   "source": [
    "def result (num1,num2):\n",
    "    if num2!=0:\n",
    "        resultado= num1/num2\n",
    "        print (resultado)\n",
    "    else:\n",
    "        print(\"No se puede hacer la división porque el denominador es 0\")\n",
    "result(4,0)"
   ]
  },
  {
   "cell_type": "markdown",
   "metadata": {
    "collapsed": true
   },
   "source": [
    "### 14. Escribe un programa que pida al usuario un número entero. El programa debe pedir al usuario números, hasta que éste introduzca el número 13. En este caso, el programa debe devolver: \"Enhorabuena, le ha tocado el premio\". \n",
    "##### Pista: debes usar un bucle while con \"algo más.\""
   ]
  },
  {
   "cell_type": "code",
   "execution_count": 44,
   "metadata": {},
   "outputs": [
    {
     "name": "stdout",
     "output_type": "stream",
     "text": [
      " Escribe un numero entero: 2\n",
      "Lo siento, intentelo de nuevo\n",
      "Escriba otro numero: 13\n",
      "Enhorabuena, le ha tocado el premio\n"
     ]
    }
   ],
   "source": [
    "numero = int(input(' Escribe un numero entero: '))\n",
    "while numero != 13:\n",
    "    print('Lo siento, intentelo de nuevo')\n",
    "    numero = int(input('Escriba otro numero: '))\n",
    "\n",
    "print('Enhorabuena, le ha tocado el premio')"
   ]
  },
  {
   "cell_type": "code",
   "execution_count": null,
   "metadata": {
    "collapsed": true
   },
   "outputs": [],
   "source": []
  }
 ],
 "metadata": {
  "kernelspec": {
   "display_name": "Python 3",
   "language": "python",
   "name": "python3"
  },
  "language_info": {
   "codemirror_mode": {
    "name": "ipython",
    "version": 3
   },
   "file_extension": ".py",
   "mimetype": "text/x-python",
   "name": "python",
   "nbconvert_exporter": "python",
   "pygments_lexer": "ipython3",
   "version": "3.6.1"
  }
 },
 "nbformat": 4,
 "nbformat_minor": 2
}
