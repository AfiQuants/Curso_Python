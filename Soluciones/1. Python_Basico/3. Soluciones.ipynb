{
 "cells": [
  {
   "cell_type": "markdown",
   "metadata": {},
   "source": [
    "### 1. Escribe una función que reciba como parámetro un año y que escriba si es bisiesto o no.\n",
    "** Se recuerda que los años bisiestos son múltiplos de 4, pero los múltiplos de 100 no lo son, aunque los múltiplos de 400 sí. Estos son algunos ejemplos de posibles respuestas: 2012 es bisiesto, 2010 no es bisiesto, 2000 es bisiesto, 1900 no es bisiesto. **"
   ]
  },
  {
   "cell_type": "code",
   "execution_count": 4,
   "metadata": {
    "collapsed": true
   },
   "outputs": [],
   "source": [
    "def años_bisiestos (año):\n",
    "    if año%4 ==0 and año%100 != 0 or año%400 ==0 :\n",
    "        return(str(año)+' es bisiesto')\n",
    "    else:\n",
    "        return(str(año)+ ' no es bisiesto')"
   ]
  },
  {
   "cell_type": "code",
   "execution_count": 10,
   "metadata": {},
   "outputs": [
    {
     "data": {
      "text/plain": [
       "'1900 no es bisiesto'"
      ]
     },
     "execution_count": 10,
     "metadata": {},
     "output_type": "execute_result"
    }
   ],
   "source": [
    "a = años_bisiestos(1900) \n",
    "a"
   ]
  },
  {
   "cell_type": "code",
   "execution_count": 8,
   "metadata": {},
   "outputs": [
    {
     "name": "stdout",
     "output_type": "stream",
     "text": [
      "2012 es bisiesto\n"
     ]
    }
   ],
   "source": [
    "años_bisiestos(2012)"
   ]
  },
  {
   "cell_type": "markdown",
   "metadata": {},
   "source": [
    "### 2. Escriba un programa que pida dos años y escriba cuántos años bisiestos hay entre esas dos fechas (incluidos los dos años)."
   ]
  },
  {
   "cell_type": "code",
   "execution_count": 28,
   "metadata": {
    "collapsed": true
   },
   "outputs": [],
   "source": [
    "\n",
    "def bisiesto2(year):\n",
    "    count = 0\n",
    "    if year%4!=0: count+=0\n",
    "\n",
    "    elif year%400==0: count+=1\n",
    "    elif year%100==0: count+=0\n",
    "    else: count+=1\n",
    "    return count\n",
    "\n",
    "\n",
    "def bis_entre_años(año1,año2):\n",
    "    lista = list(range(año1, año2+1))\n",
    "    a = 0\n",
    "    for year in lista:\n",
    "        a += bisiesto2(year)\n",
    "    return a     \n"
   ]
  },
  {
   "cell_type": "code",
   "execution_count": 29,
   "metadata": {},
   "outputs": [
    {
     "name": "stdout",
     "output_type": "stream",
     "text": [
      "1\n",
      "1\n",
      "1\n",
      "1\n",
      "2\n",
      "2\n",
      "2\n",
      "2\n",
      "3\n",
      "3\n"
     ]
    }
   ],
   "source": [
    "bis_entre_años(2000, 2009)\n"
   ]
  },
  {
   "cell_type": "markdown",
   "metadata": {},
   "source": [
    "### 3. Definir una función que tome dos listas y devuelva True si tienen al menos 1 elemento en común o devuelva False de lo contrario."
   ]
  },
  {
   "cell_type": "code",
   "execution_count": 4,
   "metadata": {},
   "outputs": [
    {
     "data": {
      "text/plain": [
       "True"
      ]
     },
     "execution_count": 4,
     "metadata": {},
     "output_type": "execute_result"
    }
   ],
   "source": [
    "uno=[1,2,3,4,5,10]\n",
    "dos=[4,5,6,7,8,9]\n",
    "\n",
    "def comp_lista(lista1=[],lista2=[]):\n",
    "    coincidencia=False\n",
    "    for i in lista1:\n",
    "        for j in lista2:\n",
    "            if i==j:\n",
    "                coincidencia=True\n",
    "    return coincidencia\n",
    "\n",
    "\n",
    "\n",
    "comp_lista(uno,dos)"
   ]
  },
  {
   "cell_type": "code",
   "execution_count": 3,
   "metadata": {},
   "outputs": [
    {
     "data": {
      "text/plain": [
       "False"
      ]
     },
     "execution_count": 3,
     "metadata": {},
     "output_type": "execute_result"
    }
   ],
   "source": [
    "comp_lista()"
   ]
  },
  {
   "cell_type": "code",
   "execution_count": 5,
   "metadata": {},
   "outputs": [
    {
     "data": {
      "text/plain": [
       "True"
      ]
     },
     "execution_count": 5,
     "metadata": {},
     "output_type": "execute_result"
    }
   ],
   "source": [
    "uno=[1,2,3,4,5,10]\n",
    "dos=[4,5,6,7,8,9]\n",
    "\n",
    "def comp_lista2(lista1,lista2):\n",
    "    coincidencia=False\n",
    "    for i in lista1:\n",
    "        if i in lista2:\n",
    "            coincidencia=True\n",
    "    return coincidencia\n",
    "\n",
    "comp_lista(uno,dos)"
   ]
  },
  {
   "cell_type": "code",
   "execution_count": 6,
   "metadata": {},
   "outputs": [
    {
     "data": {
      "text/plain": [
       "True"
      ]
     },
     "execution_count": 6,
     "metadata": {},
     "output_type": "execute_result"
    }
   ],
   "source": [
    "uno=[1,2,3,4,5,10]\n",
    "dos=[4,5,6,7,8,9]\n",
    "\n",
    "def comp_lista2(lista1,lista2):\n",
    "    for i in lista1:\n",
    "        if i in lista2:\n",
    "            print(True)\n",
    "            break\n",
    "\n",
    "comp_lista(uno,dos)"
   ]
  },
  {
   "cell_type": "code",
   "execution_count": 9,
   "metadata": {},
   "outputs": [
    {
     "name": "stdout",
     "output_type": "stream",
     "text": [
      "[]\n"
     ]
    },
    {
     "data": {
      "text/plain": [
       "False"
      ]
     },
     "execution_count": 9,
     "metadata": {},
     "output_type": "execute_result"
    }
   ],
   "source": [
    "uno=[1,2,3,10,4]\n",
    "dos=[4,5,6,7,8,9]\n",
    "\n",
    "def comparar(lista1,lista2):\n",
    "    l = [i for i in lista1 if i in lista2]\n",
    "    print(l)\n",
    "    return len(l)>0\n",
    "\n",
    "comparar(uno,dos)"
   ]
  },
  {
   "cell_type": "code",
   "execution_count": 10,
   "metadata": {},
   "outputs": [
    {
     "data": {
      "text/plain": [
       "True"
      ]
     },
     "execution_count": 10,
     "metadata": {},
     "output_type": "execute_result"
    }
   ],
   "source": [
    "uno=[1,2,3,10,4]\n",
    "dos=[4,5,6,7,8,9]\n",
    "\n",
    "def comparar2(lista1,lista2):\n",
    "    i = set(lista1) & set(lista2)\n",
    "    return len(i)>0\n",
    "\n",
    "comparar2(uno,dos)"
   ]
  },
  {
   "cell_type": "markdown",
   "metadata": {},
   "source": [
    "### 4. Escribe (y utiliza) una función que calcule el área de un círculo, recibiendo como parámetro (opcional de valor por defecto 1) su radio. El módulo math de Python contiene una constante para PI."
   ]
  },
  {
   "cell_type": "code",
   "execution_count": 11,
   "metadata": {
    "collapsed": true
   },
   "outputs": [],
   "source": [
    "def areaC(radio = 1):\n",
    "    import math as ma\n",
    "    area = ma.pi * radio ** 2\n",
    "    return area"
   ]
  },
  {
   "cell_type": "code",
   "execution_count": 13,
   "metadata": {},
   "outputs": [
    {
     "data": {
      "text/plain": [
       "3.141592653589793"
      ]
     },
     "execution_count": 13,
     "metadata": {},
     "output_type": "execute_result"
    }
   ],
   "source": [
    "areaC()"
   ]
  },
  {
   "cell_type": "markdown",
   "metadata": {},
   "source": [
    "### 5. Escribe (y utiliza) una función que calcule la longitud y el área de un círculo, recibiendo como parámetro (opcional de valor por defecto 1) su radio. El módulo math de Python contiene una constante para PI. \n",
    "#### Nota: la función debe devolver dos valores: la longitud y el área."
   ]
  },
  {
   "cell_type": "code",
   "execution_count": 17,
   "metadata": {
    "collapsed": true
   },
   "outputs": [],
   "source": [
    "def areaLC(radio = 1):\n",
    "    import math as ma\n",
    "    area = ma.pi * radio ** 2\n",
    "    longitud = radio * 2 * ma.pi\n",
    "    return area, longitud"
   ]
  },
  {
   "cell_type": "code",
   "execution_count": 19,
   "metadata": {},
   "outputs": [
    {
     "data": {
      "text/plain": [
       "12.566370614359172"
      ]
     },
     "execution_count": 19,
     "metadata": {},
     "output_type": "execute_result"
    }
   ],
   "source": [
    "area, longitud = areaLC(2)\n",
    "area"
   ]
  },
  {
   "cell_type": "markdown",
   "metadata": {},
   "source": [
    "### 6. Escribe una función que reciba un nombre de fichero, lo abra y devuelva un diccionario con las palabras (asume que están separadas siempre por espacios) del fichero y sus frecuencias. Se deberá controlar la posibilidad de que el fichero indicado no exista."
   ]
  },
  {
   "cell_type": "code",
   "execution_count": 21,
   "metadata": {},
   "outputs": [
    {
     "name": "stdout",
     "output_type": "stream",
     "text": [
      "Este es el fichero para el ejercicio seis\n"
     ]
    },
    {
     "data": {
      "text/plain": [
       "{'Este': 1,\n",
       " 'ejercicio': 1,\n",
       " 'el': 2,\n",
       " 'es': 1,\n",
       " 'fichero': 1,\n",
       " 'para': 1,\n",
       " 'seis': 1}"
      ]
     },
     "execution_count": 21,
     "metadata": {},
     "output_type": "execute_result"
    }
   ],
   "source": [
    "def cuentapalabras (fichero):\n",
    "    fichero = open(fichero)\n",
    "    contenido = fichero.read()\n",
    "    print(contenido)\n",
    "    \n",
    "    lista_palabras = contenido.split(\" \")\n",
    "    dicc={}\n",
    "    for i in lista_palabras:\n",
    "        veces = lista_palabras.count(i)\n",
    "        dicc[i] = veces\n",
    "    fichero.close()\n",
    "    return dicc\n",
    "\n",
    "cuentapalabras(\"Ejercicios4_5.txt\")"
   ]
  },
  {
   "cell_type": "code",
   "execution_count": 22,
   "metadata": {},
   "outputs": [
    {
     "name": "stdout",
     "output_type": "stream",
     "text": [
      "Este es el fichero para el ejercicio seis\n"
     ]
    },
    {
     "data": {
      "text/plain": [
       "{'Este': 1,\n",
       " 'ejercicio': 1,\n",
       " 'el': 2,\n",
       " 'es': 1,\n",
       " 'fichero': 1,\n",
       " 'para': 1,\n",
       " 'seis': 1}"
      ]
     },
     "execution_count": 22,
     "metadata": {},
     "output_type": "execute_result"
    }
   ],
   "source": [
    "def cuentapalabras (fichero):\n",
    "    fichero = open(fichero)\n",
    "    contenido = fichero.read()\n",
    "    print(contenido)\n",
    "    \n",
    "    lista_palabras = contenido.split(\" \")\n",
    "    veces = [lista_palabras.count(palabra) for palabra in lista_palabras]\n",
    "    dicc = dict(zip(lista_palabras,veces))\n",
    "    fichero.close()\n",
    "    return dicc\n",
    "\n",
    "cuentapalabras(\"Ejercicios4_5.txt\")"
   ]
  },
  {
   "cell_type": "markdown",
   "metadata": {},
   "source": [
    "### 7. Escribe una función que reciba dos nombres de ficheros, el primero se utilizará para generar el diccionario del ejercicio anterior, el segundo para almacenar dicho diccionario en formato .tsv (tabulador = \\t; salto de linea = \\n)"
   ]
  },
  {
   "cell_type": "code",
   "execution_count": 24,
   "metadata": {},
   "outputs": [
    {
     "name": "stdout",
     "output_type": "stream",
     "text": [
      "Este es el fichero para el ejercicio seis\n"
     ]
    }
   ],
   "source": [
    "def fun(fichero1,fichero2):\n",
    "    d = cuentapalabras(fichero1)\n",
    "    f = open(fichero2, 'w')\n",
    "    for i in d:\n",
    "        f.write(i +'\\t'+ str(d[i]) +'\\n')\n",
    "    f.close()\n",
    "\n",
    "fun(\"Ejercicios4_5.txt\",\"Prueba.tsv\")"
   ]
  },
  {
   "cell_type": "code",
   "execution_count": 25,
   "metadata": {},
   "outputs": [
    {
     "name": "stdout",
     "output_type": "stream",
     "text": [
      "Este es el fichero para el ejercicio seis\n"
     ]
    }
   ],
   "source": [
    "def fun(fichero1,fichero2):\n",
    "    d = cuentapalabras(fichero1)\n",
    "    f = open(fichero2, 'w')\n",
    "    for pal,frec in d.items():\n",
    "        f.write(pal +'\\t'+ str(frec) +'\\n')\n",
    "    f.close()\n",
    "\n",
    "fun(\"Ejercicios4_5.txt\",\"Prueba.tsv\")"
   ]
  },
  {
   "cell_type": "code",
   "execution_count": null,
   "metadata": {
    "collapsed": true
   },
   "outputs": [],
   "source": []
  }
 ],
 "metadata": {
  "kernelspec": {
   "display_name": "Python 3",
   "language": "python",
   "name": "python3"
  },
  "language_info": {
   "codemirror_mode": {
    "name": "ipython",
    "version": 3
   },
   "file_extension": ".py",
   "mimetype": "text/x-python",
   "name": "python",
   "nbconvert_exporter": "python",
   "pygments_lexer": "ipython3",
   "version": "3.6.1"
  }
 },
 "nbformat": 4,
 "nbformat_minor": 2
}
