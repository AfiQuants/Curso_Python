{
  "nbformat": 4,
  "nbformat_minor": 0,
  "metadata": {
    "colab": {
      "name": "Tratamiento de fechas.ipynb",
      "provenance": [],
      "collapsed_sections": [],
      "toc_visible": true
    },
    "kernelspec": {
      "name": "python3",
      "display_name": "Python 3"
    }
  },
  "cells": [
    {
      "cell_type": "markdown",
      "metadata": {
        "id": "g4YrcRofOZmf"
      },
      "source": [
        "---\r\n",
        "<font size=\"6\"><center>Tratamiento de fechas</font></center>\r\n",
        "\r\n",
        "Es imprescindible, en cualquier lenguaje de programación, aprender a cómo utilizar las fechas tal y como queremos. \\\r\n",
        "Para ello, en este módulo aprenderemos a utilizar el paquete de funciones incorporadas en **`datetime`**. \r\n",
        "\r\n",
        "---\r\n"
      ]
    },
    {
      "cell_type": "markdown",
      "metadata": {
        "id": "Ub_8Zzc31rm9"
      },
      "source": [
        "# **Objetos en `datetime`**\r\n",
        "Dispondremos de muchos objetos en los cuales se hará hincapié en las clases de fechas siguientes:\r\n",
        "* **date**: Objeto de fecha\r\n",
        "* **time**: Objeto de tiempo\r\n",
        "* **datetime**: Objeto que engloba a ambas\r\n",
        "* **timedelta**: Objeto operador de fechas\r\n",
        "\r\n",
        "Empecemos importando el paquete y viendo sus atributos."
      ]
    },
    {
      "cell_type": "code",
      "metadata": {
        "colab": {
          "base_uri": "https://localhost:8080/"
        },
        "id": "Fipjo9KAReaQ",
        "outputId": "36a5cdf9-beb2-4b8b-e87f-9e2a2ce4d9be"
      },
      "source": [
        "import datetime\r\n",
        "dir(datetime)"
      ],
      "execution_count": null,
      "outputs": [
        {
          "output_type": "execute_result",
          "data": {
            "text/plain": [
              "['MAXYEAR',\n",
              " 'MINYEAR',\n",
              " '__builtins__',\n",
              " '__cached__',\n",
              " '__doc__',\n",
              " '__file__',\n",
              " '__loader__',\n",
              " '__name__',\n",
              " '__package__',\n",
              " '__spec__',\n",
              " 'date',\n",
              " 'datetime',\n",
              " 'datetime_CAPI',\n",
              " 'sys',\n",
              " 'time',\n",
              " 'timedelta',\n",
              " 'timezone',\n",
              " 'tzinfo']"
            ]
          },
          "metadata": {
            "tags": []
          },
          "execution_count": 36
        }
      ]
    },
    {
      "cell_type": "markdown",
      "metadata": {
        "id": "BwSOzwhuX5fL"
      },
      "source": [
        "Como se peude observar, vemos las clases `date`, `datetime`, `time` y `timedelta`, las cuales veremos más en detalle a continuación."
      ]
    },
    {
      "cell_type": "markdown",
      "metadata": {
        "id": "MPHiHGbcYikT"
      },
      "source": [
        "## **`.date`**\r\n",
        "Con esta clase podemos crear objetos tipo `date` el cual representa una fecha de tipo (año, mes y día). Además, como atributo más interesante, está el poder extraer el día de hoy con el método `.today()`."
      ]
    },
    {
      "cell_type": "code",
      "metadata": {
        "colab": {
          "base_uri": "https://localhost:8080/"
        },
        "id": "NJNZXPlwYGuh",
        "outputId": "200d71b7-6ee6-437e-ff41-dcf51914bca7"
      },
      "source": [
        "# --\r\n",
        "# Atributos de datetime.date\r\n",
        "# --\r\n",
        "dir(datetime.date)"
      ],
      "execution_count": null,
      "outputs": [
        {
          "output_type": "execute_result",
          "data": {
            "text/plain": [
              "['__add__',\n",
              " '__class__',\n",
              " '__delattr__',\n",
              " '__dir__',\n",
              " '__doc__',\n",
              " '__eq__',\n",
              " '__format__',\n",
              " '__ge__',\n",
              " '__getattribute__',\n",
              " '__gt__',\n",
              " '__hash__',\n",
              " '__init__',\n",
              " '__init_subclass__',\n",
              " '__le__',\n",
              " '__lt__',\n",
              " '__ne__',\n",
              " '__new__',\n",
              " '__radd__',\n",
              " '__reduce__',\n",
              " '__reduce_ex__',\n",
              " '__repr__',\n",
              " '__rsub__',\n",
              " '__setattr__',\n",
              " '__sizeof__',\n",
              " '__str__',\n",
              " '__sub__',\n",
              " '__subclasshook__',\n",
              " 'ctime',\n",
              " 'day',\n",
              " 'fromordinal',\n",
              " 'fromtimestamp',\n",
              " 'isocalendar',\n",
              " 'isoformat',\n",
              " 'isoweekday',\n",
              " 'max',\n",
              " 'min',\n",
              " 'month',\n",
              " 'replace',\n",
              " 'resolution',\n",
              " 'strftime',\n",
              " 'timetuple',\n",
              " 'today',\n",
              " 'toordinal',\n",
              " 'weekday',\n",
              " 'year']"
            ]
          },
          "metadata": {
            "tags": []
          },
          "execution_count": 40
        }
      ]
    },
    {
      "cell_type": "code",
      "metadata": {
        "id": "p2DWCKmIZ8N1"
      },
      "source": [
        "# --\r\n",
        "# A partir de aquí, trabajemos únicamente importando todo el paquete date\r\n",
        "# para evitar poner \"datetime.\"\r\n",
        "# --\r\n",
        "from datetime import date"
      ],
      "execution_count": null,
      "outputs": []
    },
    {
      "cell_type": "markdown",
      "metadata": {
        "id": "U3A31cGEaUa3"
      },
      "source": [
        "### **Crear fechas**\r\n",
        "Para crear fechas, necesitamos los siguientes argumentos:\r\n",
        "* **Year**\r\n",
        "* **Month**\r\n",
        "* **Day**"
      ]
    },
    {
      "cell_type": "code",
      "metadata": {
        "colab": {
          "base_uri": "https://localhost:8080/"
        },
        "id": "n4XB-I7KbPN3",
        "outputId": "c1c51439-b657-4184-d766-da9798561184"
      },
      "source": [
        "# --\r\n",
        "# Creamos una fecha\r\n",
        "# --\r\n",
        "ejemplo_d_1 = datetime.date(year = 2019, month = 4, day = 13)\r\n",
        "print('Usando datetime.date: ' + str(ejemplo_d_1))\r\n",
        "\r\n",
        "# --\r\n",
        "# Equivalente a usar únicamente date\r\n",
        "# --\r\n",
        "ejemplo_d_2 = date(2019, 4, 13)\r\n",
        "print('Usando date: ' + str(ejemplo_d_2))"
      ],
      "execution_count": null,
      "outputs": [
        {
          "output_type": "stream",
          "text": [
            "Usando datetime.date: 2019-04-13\n",
            "Usando date: 2019-04-13\n"
          ],
          "name": "stdout"
        }
      ]
    },
    {
      "cell_type": "markdown",
      "metadata": {
        "id": "BJpdVf_KaaPD"
      },
      "source": [
        "#### `.today()`\r\n",
        "Veamos cómo extraer el día actual"
      ]
    },
    {
      "cell_type": "code",
      "metadata": {
        "colab": {
          "base_uri": "https://localhost:8080/"
        },
        "id": "OmSiX2SeZf0U",
        "outputId": "5ea16223-4ade-413e-93c0-4814243dbba8"
      },
      "source": [
        "# --\r\n",
        "# Equivalente a usar directamente date.today()\r\n",
        "# --\r\n",
        "hoy = date.today()\r\n",
        "print('Fechas de hoy: ' + str(hoy))"
      ],
      "execution_count": null,
      "outputs": [
        {
          "output_type": "stream",
          "text": [
            "Fechas de hoy: 2021-01-20\n"
          ],
          "name": "stdout"
        }
      ]
    },
    {
      "cell_type": "markdown",
      "metadata": {
        "id": "BtEIAP0bd_e9"
      },
      "source": [
        "### **Métodos asociados**\r\n",
        "Los métodos asociados más usuales a este objeto son:\r\n",
        "* **`.year`**\r\n",
        "* **`.month`**\r\n",
        "* **`.day`**\r\n"
      ]
    },
    {
      "cell_type": "code",
      "metadata": {
        "colab": {
          "base_uri": "https://localhost:8080/"
        },
        "id": "hJ403TG_K4mq",
        "outputId": "de27a9a9-c911-444a-cfc1-0a18824edb2a"
      },
      "source": [
        "# --\r\n",
        "# Veamos el año, mes y día actual\r\n",
        "# --\r\n",
        "hoy = date.today() \r\n",
        "\r\n",
        "print(\"Año actual:\", hoy.year)\r\n",
        "print(\"Mes actual:\", hoy.month)\r\n",
        "print(\"Día actual:\", hoy.day)"
      ],
      "execution_count": null,
      "outputs": [
        {
          "output_type": "stream",
          "text": [
            "Año actual: 2021\n",
            "Mes actual: 1\n",
            "Día actual: 20\n"
          ],
          "name": "stdout"
        }
      ]
    },
    {
      "cell_type": "markdown",
      "metadata": {
        "id": "3U0E7sMZhCzY"
      },
      "source": [
        "Adicionalmente, peude llegar a resultar interesante el método `fromtimestamp`que convierte un número en formato $\\text{timestamp}^1$ a fecha.\r\n",
        "\r\n",
        "<font size = 2> 1.- El $\\text{timestamp}$ es el número de segundos que han transucrrido entre el 1 de enero de 1970 y la fecha que se desee."
      ]
    },
    {
      "cell_type": "code",
      "metadata": {
        "colab": {
          "base_uri": "https://localhost:8080/"
        },
        "id": "g02gfb68KlMI",
        "outputId": "d2c3d224-351c-433a-9fe2-e7ee1ddfb8b8"
      },
      "source": [
        "# --\r\n",
        "# Veámos a qué fecha hace referencia este número\r\n",
        "# --\r\n",
        "timestamp = date.fromtimestamp(1326244364)\r\n",
        "print(\"Fecha =\", timestamp)"
      ],
      "execution_count": null,
      "outputs": [
        {
          "output_type": "stream",
          "text": [
            "Fecha = 2012-01-11\n"
          ],
          "name": "stdout"
        }
      ]
    },
    {
      "cell_type": "markdown",
      "metadata": {
        "id": "y5syQ3_Hhguu"
      },
      "source": [
        "## **`.time`**\r\n",
        "Con esta clase podemos crear objetos tipo `time` el cual representa una hora de tipo (hora, minuto, segundo y microsegundo). Además, como atributo más interesante, está el poder extraer la hora actual con el método `.now()`."
      ]
    },
    {
      "cell_type": "code",
      "metadata": {
        "colab": {
          "base_uri": "https://localhost:8080/"
        },
        "id": "-Jw_3R_Eh-5v",
        "outputId": "deb077f3-e8a3-4b3f-da96-9808eb499f36"
      },
      "source": [
        "# --\r\n",
        "# Atributos de datetime.time\r\n",
        "# --\r\n",
        "dir(datetime.time)"
      ],
      "execution_count": null,
      "outputs": [
        {
          "output_type": "execute_result",
          "data": {
            "text/plain": [
              "['__class__',\n",
              " '__delattr__',\n",
              " '__dir__',\n",
              " '__doc__',\n",
              " '__eq__',\n",
              " '__format__',\n",
              " '__ge__',\n",
              " '__getattribute__',\n",
              " '__gt__',\n",
              " '__hash__',\n",
              " '__init__',\n",
              " '__init_subclass__',\n",
              " '__le__',\n",
              " '__lt__',\n",
              " '__ne__',\n",
              " '__new__',\n",
              " '__reduce__',\n",
              " '__reduce_ex__',\n",
              " '__repr__',\n",
              " '__setattr__',\n",
              " '__sizeof__',\n",
              " '__str__',\n",
              " '__subclasshook__',\n",
              " 'dst',\n",
              " 'fold',\n",
              " 'hour',\n",
              " 'isoformat',\n",
              " 'max',\n",
              " 'microsecond',\n",
              " 'min',\n",
              " 'minute',\n",
              " 'replace',\n",
              " 'resolution',\n",
              " 'second',\n",
              " 'strftime',\n",
              " 'tzinfo',\n",
              " 'tzname',\n",
              " 'utcoffset']"
            ]
          },
          "metadata": {
            "tags": []
          },
          "execution_count": 58
        }
      ]
    },
    {
      "cell_type": "code",
      "metadata": {
        "id": "CwiAQOkhiEt9"
      },
      "source": [
        "# --\r\n",
        "# A partir de aquí, trabajemos únicamente importando todo el paquete time\r\n",
        "# para evitar poner \"datetime.\"\r\n",
        "# --\r\n",
        "from datetime import time"
      ],
      "execution_count": null,
      "outputs": []
    },
    {
      "cell_type": "markdown",
      "metadata": {
        "id": "lQW4L6p2ihtQ"
      },
      "source": [
        "### **Crear horas**\r\n",
        "Para crear horas, necesitamos los siguientes argumentos:\r\n",
        "* **Hour**\r\n",
        "* **Minute**\r\n",
        "* **Second**\r\n",
        "* **Microsecond**: Opcional"
      ]
    },
    {
      "cell_type": "code",
      "metadata": {
        "colab": {
          "base_uri": "https://localhost:8080/"
        },
        "id": "dIuphh_Gi5AO",
        "outputId": "328a0816-5d97-4a0a-a9c8-f9afe268207d"
      },
      "source": [
        "# --\r\n",
        "# Creamos una hora\r\n",
        "# --\r\n",
        "ejemplo_h_1 = datetime.time(hour = 11, minute = 34, second = 13)\r\n",
        "print('Usando datetime.time: ' + str(ejemplo_h_1))\r\n",
        "\r\n",
        "# --\r\n",
        "# Equivalente a usar únicamente date\r\n",
        "# --\r\n",
        "ejemplo_h_2 = time(11, 34, 13)\r\n",
        "print('Usando date: ' + str(ejemplo_h_2))\r\n",
        "\r\n",
        "# --\r\n",
        "# Usando la variable opcional \"microsecond\"\r\n",
        "# --\r\n",
        "ejemplo_h_3 = time(11, 34, 56, 234566)\r\n",
        "print(\"Usando microsegundos:\", ejemplo_h_3)"
      ],
      "execution_count": null,
      "outputs": [
        {
          "output_type": "stream",
          "text": [
            "Usando datetime.time: 11:34:13\n",
            "Usando date: 11:34:13\n",
            "Usando microsegundos: 11:34:56.234566\n"
          ],
          "name": "stdout"
        }
      ]
    },
    {
      "cell_type": "markdown",
      "metadata": {
        "id": "F5jDLcWqlH6v"
      },
      "source": [
        "### **Métodos asociados**\r\n",
        "Los métodos asociados más usuales a este objeto son:\r\n",
        "* **`.hour`**\r\n",
        "* **`.minute`**\r\n",
        "* **`.second`**\r\n",
        "* **`.microsecond`**"
      ]
    },
    {
      "cell_type": "code",
      "metadata": {
        "colab": {
          "base_uri": "https://localhost:8080/"
        },
        "id": "yyN-IvTglXLh",
        "outputId": "3222e7c0-352b-4039-a6ba-ba6b0cf0a78e"
      },
      "source": [
        "# --\r\n",
        "# Veamos la hora, el minuto, el segundo y el microsegundo de la variable \"mi_hora\"\r\n",
        "# --\r\n",
        "mi_hora = time(11, 34, 56)\r\n",
        "\r\n",
        "print(\"Hora:\", mi_hora.hour)\r\n",
        "print(\"Minuto:\", mi_hora.minute)\r\n",
        "print(\"Segundo:\", mi_hora.second)\r\n",
        "print(\"Microsegundo:\", mi_hora.microsecond)"
      ],
      "execution_count": null,
      "outputs": [
        {
          "output_type": "stream",
          "text": [
            "Hora: 11\n",
            "Minuto: 34\n",
            "Segundo: 56\n",
            "Microsegundo: 0\n"
          ],
          "name": "stdout"
        }
      ]
    },
    {
      "cell_type": "markdown",
      "metadata": {
        "id": "VByYvj23mOyS"
      },
      "source": [
        "## **`.datetime`**\r\n",
        "Con esta clase podemos crear objetos tipo `datetime` el cual engloba a las dos categorías anteriores, teniendo objetos del tipo (año, mes, día, hora, minuto, segundo y microsegundo). Además, como atributo más interesante, está el poder extraer la fecha o hora actual con el método `.today()`y `.now()`."
      ]
    },
    {
      "cell_type": "code",
      "metadata": {
        "colab": {
          "base_uri": "https://localhost:8080/"
        },
        "id": "oOpkhF3SmqVQ",
        "outputId": "20a1d1f0-caff-47b1-81b9-b79ebc34d9ab"
      },
      "source": [
        "import datetime\r\n",
        "# --\r\n",
        "# Atributos de datetime.time\r\n",
        "# --\r\n",
        "dir(datetime.datetime)"
      ],
      "execution_count": null,
      "outputs": [
        {
          "output_type": "execute_result",
          "data": {
            "text/plain": [
              "['__add__',\n",
              " '__class__',\n",
              " '__delattr__',\n",
              " '__dir__',\n",
              " '__doc__',\n",
              " '__eq__',\n",
              " '__format__',\n",
              " '__ge__',\n",
              " '__getattribute__',\n",
              " '__gt__',\n",
              " '__hash__',\n",
              " '__init__',\n",
              " '__init_subclass__',\n",
              " '__le__',\n",
              " '__lt__',\n",
              " '__ne__',\n",
              " '__new__',\n",
              " '__radd__',\n",
              " '__reduce__',\n",
              " '__reduce_ex__',\n",
              " '__repr__',\n",
              " '__rsub__',\n",
              " '__setattr__',\n",
              " '__sizeof__',\n",
              " '__str__',\n",
              " '__sub__',\n",
              " '__subclasshook__',\n",
              " 'astimezone',\n",
              " 'combine',\n",
              " 'ctime',\n",
              " 'date',\n",
              " 'day',\n",
              " 'dst',\n",
              " 'fold',\n",
              " 'fromordinal',\n",
              " 'fromtimestamp',\n",
              " 'hour',\n",
              " 'isocalendar',\n",
              " 'isoformat',\n",
              " 'isoweekday',\n",
              " 'max',\n",
              " 'microsecond',\n",
              " 'min',\n",
              " 'minute',\n",
              " 'month',\n",
              " 'now',\n",
              " 'replace',\n",
              " 'resolution',\n",
              " 'second',\n",
              " 'strftime',\n",
              " 'strptime',\n",
              " 'time',\n",
              " 'timestamp',\n",
              " 'timetuple',\n",
              " 'timetz',\n",
              " 'today',\n",
              " 'toordinal',\n",
              " 'tzinfo',\n",
              " 'tzname',\n",
              " 'utcfromtimestamp',\n",
              " 'utcnow',\n",
              " 'utcoffset',\n",
              " 'utctimetuple',\n",
              " 'weekday',\n",
              " 'year']"
            ]
          },
          "metadata": {
            "tags": []
          },
          "execution_count": 2
        }
      ]
    },
    {
      "cell_type": "code",
      "metadata": {
        "id": "TZf9cFPwm-TD"
      },
      "source": [
        "# --\r\n",
        "# A partir de aquí, trabajemos únicamente importando todo el paquete datetime\r\n",
        "# para evitar poner \"datetime.\"\r\n",
        "# --\r\n",
        "from datetime import datetime"
      ],
      "execution_count": null,
      "outputs": []
    },
    {
      "cell_type": "markdown",
      "metadata": {
        "id": "qTdPpjbjnH54"
      },
      "source": [
        "### **Crear objetos datetime**\r\n",
        "Para crear este tipo de objetos, necesitamos los siguientes argumentos:\r\n",
        "* **Year**\r\n",
        "* **Month**\r\n",
        "* **Day**\r\n",
        "* **Hour**: Opcional. Defecto: Hour = 0\r\n",
        "* **Minute**: Opcional. Defecto: Minute = 0\r\n",
        "* **Second**: Opcional. Defecto: Second = 0\r\n",
        "* **Microsecond**: Opcional. Defecto: Microsecond = 0"
      ]
    },
    {
      "cell_type": "code",
      "metadata": {
        "colab": {
          "base_uri": "https://localhost:8080/"
        },
        "id": "fNHs18wfLRjL",
        "outputId": "efd7ad30-3d18-486c-8500-b7233161a231"
      },
      "source": [
        "# --\r\n",
        "# Creamos una fecha\r\n",
        "# --\r\n",
        "mi_fecha_1 = datetime(2018, 11, 28)\r\n",
        "print(\"Fecha utilizando datetime: \" + str(mi_fecha_1))\r\n",
        "\r\n",
        "# --\r\n",
        "# Creamos una fecha con hora\r\n",
        "# --\r\n",
        "mi_fecha_2 = datetime(2017, 11, 28, 23, 55, 59, 342380)\r\n",
        "print(\"Fecha y hora utilizando datetime: \" + str(mi_fecha_2))"
      ],
      "execution_count": null,
      "outputs": [
        {
          "output_type": "stream",
          "text": [
            "Fecha utilizando datetime: 2018-11-28 00:00:00\n",
            "Fecha y hora utilizando datetime: 2017-11-28 23:55:59.342380\n"
          ],
          "name": "stdout"
        }
      ]
    },
    {
      "cell_type": "markdown",
      "metadata": {
        "id": "Cf1DQdMMoKhS"
      },
      "source": [
        "#### `.today()` o `.now()`\r\n",
        "Veamos cómo extraer el día y hora actual usando datetime."
      ]
    },
    {
      "cell_type": "code",
      "metadata": {
        "colab": {
          "base_uri": "https://localhost:8080/"
        },
        "id": "asdYezZvoKhc",
        "outputId": "36061892-55c2-4714-d0a6-236d569c8f62"
      },
      "source": [
        "# --\r\n",
        "# Extraemos la fecha actual usando .today()\r\n",
        "# --\r\n",
        "hoy = datetime.today()\r\n",
        "print('Fecha de hoy: ' + str(hoy))\r\n",
        "\r\n",
        "# --\r\n",
        "# Extraemos la fecha actual usando .now()\r\n",
        "# --\r\n",
        "ahora = datetime.now()\r\n",
        "print('Hora actual: ' + str(ahora))"
      ],
      "execution_count": null,
      "outputs": [
        {
          "output_type": "stream",
          "text": [
            "Fecha de hoy: 2021-01-20 16:37:23.238641\n",
            "Hora actual: 2021-01-20 16:37:23.244245\n"
          ],
          "name": "stdout"
        }
      ]
    },
    {
      "cell_type": "markdown",
      "metadata": {
        "id": "0R6r_niarJPu"
      },
      "source": [
        "### **Métodos asociados**\r\n",
        "Los métodos asociados más usuales a este objeto son:\r\n",
        "* **`.year`**\r\n",
        "* **`.month`**\r\n",
        "* **`.day`**\r\n",
        "* **`.hour`**\r\n",
        "* **`.minute`**\r\n",
        "* **`.second`**\r\n",
        "* **`.microsecond`**\r\n",
        "* **`.timestamp`**\r\n"
      ]
    },
    {
      "cell_type": "code",
      "metadata": {
        "colab": {
          "base_uri": "https://localhost:8080/"
        },
        "id": "vuWZ2anvLcO7",
        "outputId": "70b724ad-2351-4a13-e13d-b6f9287e9b0c"
      },
      "source": [
        "# --\r\n",
        "# Veamos el año, mes, hora, minuto y timestamp de una fecha\"\r\n",
        "# --\r\n",
        "fecha = datetime(2017, 11, 28, 23, 55, 59, 342380)\r\n",
        "print(\"year =\", fecha.year)\r\n",
        "print(\"month =\", fecha.month)\r\n",
        "print(\"hour =\", fecha.hour)\r\n",
        "print(\"minute =\", fecha.minute)\r\n",
        "print(\"timestamp =\", fecha.timestamp())"
      ],
      "execution_count": null,
      "outputs": [
        {
          "output_type": "stream",
          "text": [
            "year = 2017\n",
            "month = 11\n",
            "hour = 23\n",
            "minute = 55\n",
            "timestamp = 1511913359.34238\n"
          ],
          "name": "stdout"
        }
      ]
    },
    {
      "cell_type": "markdown",
      "metadata": {
        "id": "nTpUnthGsQsZ"
      },
      "source": [
        "## **`.timedelta`**\r\n",
        "Con esta clase podemos crear objetos tipo `timedelta` representa la diferencia entre dos fechas u horas."
      ]
    },
    {
      "cell_type": "code",
      "metadata": {
        "colab": {
          "base_uri": "https://localhost:8080/"
        },
        "id": "HoFbWnhPt1xI",
        "outputId": "3a314e9b-c39e-4857-fd4a-c5f5343e2b59"
      },
      "source": [
        "from datetime import timedelta \r\n",
        "dir(timedelta)"
      ],
      "execution_count": null,
      "outputs": [
        {
          "output_type": "execute_result",
          "data": {
            "text/plain": [
              "['__abs__',\n",
              " '__add__',\n",
              " '__bool__',\n",
              " '__class__',\n",
              " '__delattr__',\n",
              " '__dir__',\n",
              " '__divmod__',\n",
              " '__doc__',\n",
              " '__eq__',\n",
              " '__floordiv__',\n",
              " '__format__',\n",
              " '__ge__',\n",
              " '__getattribute__',\n",
              " '__gt__',\n",
              " '__hash__',\n",
              " '__init__',\n",
              " '__init_subclass__',\n",
              " '__le__',\n",
              " '__lt__',\n",
              " '__mod__',\n",
              " '__mul__',\n",
              " '__ne__',\n",
              " '__neg__',\n",
              " '__new__',\n",
              " '__pos__',\n",
              " '__radd__',\n",
              " '__rdivmod__',\n",
              " '__reduce__',\n",
              " '__reduce_ex__',\n",
              " '__repr__',\n",
              " '__rfloordiv__',\n",
              " '__rmod__',\n",
              " '__rmul__',\n",
              " '__rsub__',\n",
              " '__rtruediv__',\n",
              " '__setattr__',\n",
              " '__sizeof__',\n",
              " '__str__',\n",
              " '__sub__',\n",
              " '__subclasshook__',\n",
              " '__truediv__',\n",
              " 'days',\n",
              " 'max',\n",
              " 'microseconds',\n",
              " 'min',\n",
              " 'resolution',\n",
              " 'seconds',\n",
              " 'total_seconds']"
            ]
          },
          "metadata": {
            "tags": []
          },
          "execution_count": 48
        }
      ]
    },
    {
      "cell_type": "markdown",
      "metadata": {
        "id": "J3f63ukxzxLs"
      },
      "source": [
        "### **Crear objetos timedelta**\r\n",
        "Para crear este tipo de objetos, necesitamos los siguientes argumentos:\r\n",
        "* **Weeks**: Opcional. Defecto: Weeks = 0\r\n",
        "* **Days**: Opcional. Defecto: Day = 0\r\n",
        "* **Hours**: Opcional. Defecto: Hour = 0\r\n",
        "* **Minutes**: Opcional. Defecto: Minute = 0\r\n",
        "* **Seconds**: Opcional. Defecto: Second = 0\r\n",
        "* **Microseconds**: Opcional. Defecto: Microsecond = 0\r\n",
        "* **Miliseconds**: Opcional. Defecto: Microsecond = 0"
      ]
    },
    {
      "cell_type": "code",
      "metadata": {
        "colab": {
          "base_uri": "https://localhost:8080/"
        },
        "id": "_XXF_NpYLk_r",
        "outputId": "fdf490c2-9124-4632-9b55-aabcab27c2ca"
      },
      "source": [
        "# --\r\n",
        "# Creamos un par de objetos timedelta y los restamos\r\n",
        "# --\r\n",
        "t1 = timedelta(weeks = 2, days = 5, hours = 1, seconds = 33)\r\n",
        "t2 = timedelta(days = 4, hours = 11, minutes = 4, seconds = 54)\r\n",
        "t3 = t1 - t2\r\n",
        "\r\n",
        "print(\"Diferencia =\", t3)"
      ],
      "execution_count": null,
      "outputs": [
        {
          "output_type": "stream",
          "text": [
            "Diferencia = 14 days, 13:55:39\n"
          ],
          "name": "stdout"
        }
      ]
    },
    {
      "cell_type": "markdown",
      "metadata": {
        "id": "d-BU7mQPuIj5"
      },
      "source": [
        "Para crear un objeto `timedelta` no hace falta inicalizarlo, pues basta con hacer una operación de resta como la siguiente."
      ]
    },
    {
      "cell_type": "code",
      "metadata": {
        "colab": {
          "base_uri": "https://localhost:8080/"
        },
        "id": "PLK-LlUZLeLq",
        "outputId": "09fbe970-f568-4ac3-e478-e9b83f699693"
      },
      "source": [
        "# --\r\n",
        "# Ejemplo de resta de fechas tipo date\r\n",
        "# --\r\n",
        "t1 = date(year = 2018, month = 7, day = 12)\r\n",
        "t2 = date(year = 2017, month = 12, day = 23)\r\n",
        "t3 = t1 - t2\r\n",
        "print(\"t3 =\", t3)\r\n",
        "\r\n",
        "t4 = datetime(year = 2018, month = 7, day = 12, hour = 7, minute = 9, second = 33)\r\n",
        "t5 = datetime(year = 2019, month = 6, day = 10, hour = 5, minute = 55, second = 13)\r\n",
        "t6 = t4 - t5\r\n",
        "print(\"t6 =\", t6)\r\n",
        "\r\n",
        "print(\"Tipo de t3 =\", type(t3)) \r\n",
        "print(\"Tipo de t6 =\", type(t6))  "
      ],
      "execution_count": null,
      "outputs": [
        {
          "output_type": "stream",
          "text": [
            "t3 = 201 days, 0:00:00\n",
            "t6 = -333 days, 1:14:20\n",
            "Tipo de t3 = <class 'datetime.timedelta'>\n",
            "Tipo de t6 = <class 'datetime.timedelta'>\n"
          ],
          "name": "stdout"
        }
      ]
    },
    {
      "cell_type": "markdown",
      "metadata": {
        "id": "09J2YlvF0lKW"
      },
      "source": [
        "### Dias y segundos\r\n",
        "Para calcular el número de días o número de segundos transcurridos entre dos fechas, usamos el método `.days` o `.total_seconds`"
      ]
    },
    {
      "cell_type": "code",
      "metadata": {
        "colab": {
          "base_uri": "https://localhost:8080/"
        },
        "id": "0VgTT-f2L40K",
        "outputId": "cec41c2a-ce8f-4b84-badc-7da6ca134040"
      },
      "source": [
        "# --\r\n",
        "# Si queremos saber el número de días en una variable timedelta\r\n",
        "# --\r\n",
        "t = timedelta(days = 5, hours = 1, seconds = 33, microseconds = 233423)\r\n",
        "print('Días en t:', t.days)\r\n",
        "\r\n",
        "# --\r\n",
        "# Si queremos saber el número de segundos en una variable timedelta\r\n",
        "# --\r\n",
        "t = timedelta(days = 5, hours = 1, seconds = 33, microseconds = 233423)\r\n",
        "print(\"Segundos en t =\", t.total_seconds())"
      ],
      "execution_count": null,
      "outputs": [
        {
          "output_type": "stream",
          "text": [
            "Días en t: 5\n",
            "Segundos en t = 435633.233423\n"
          ],
          "name": "stdout"
        }
      ]
    },
    {
      "cell_type": "markdown",
      "metadata": {
        "id": "jr0wPybC2C99"
      },
      "source": [
        "# **Formatos asociados**\r\n",
        "La manera en la que la fecha y la hora es representada puede ser diferente dependiendo del lugar donde tomamos el dato. \\\r\n",
        "Para ello, usaremos los métodos `.strftime()` y `.strptime` para poder tratar este problema."
      ]
    },
    {
      "cell_type": "markdown",
      "metadata": {
        "id": "oKLupN5_32cI"
      },
      "source": [
        "## **Cambiar el formato de un datetime**\r\n",
        "Una vez que ya tenemos un objeto datetime, para mostrarlo por pantalla en diferentes formatos utilizaremos el comando `.strftime`.\r\n",
        "\r\n",
        "El input puede ser cualquiera de la lista que aparece en la documentación de este [link](https://www.programiz.com/python-programming/datetime/strftime)\r\n"
      ]
    },
    {
      "cell_type": "code",
      "metadata": {
        "colab": {
          "base_uri": "https://localhost:8080/"
        },
        "id": "bvPxVTu1MG2e",
        "outputId": "4437b3c0-5224-454b-a78d-c82b47cd49a7"
      },
      "source": [
        "# --\r\n",
        "# Veamos diferentes formas de expresar la fecha y hora actual\r\n",
        "# --\r\n",
        "ahora = datetime.now()\r\n",
        "\r\n",
        "# --\r\n",
        "# Únicamente la hora\r\n",
        "# --\r\n",
        "t = ahora.strftime(\"%H:%M:%S\")\r\n",
        "print(\"Hora actual:\", t)\r\n",
        "\r\n",
        "# --\r\n",
        "# Fecha en formato dd/mm/YY\r\n",
        "# --\r\n",
        "s1 = ahora.strftime(\"%d/%m/%Y\")\r\n",
        "print(\"Fecha_1:\", s1)\r\n",
        "\r\n",
        "# --\r\n",
        "# Fecha en formato mm-dd-YY\r\n",
        "# --\r\n",
        "s1 = ahora.strftime(\"%m-%d-%Y\")\r\n",
        "print(\"Fecha_2:\", s1)"
      ],
      "execution_count": null,
      "outputs": [
        {
          "output_type": "stream",
          "text": [
            "Hora actual: 17:35:11\n",
            "Fecha_1: 20/01/2021\n",
            "Fecha_2: 01-20-2021\n"
          ],
          "name": "stdout"
        }
      ]
    },
    {
      "cell_type": "markdown",
      "metadata": {
        "id": "rjwMcplh4twq"
      },
      "source": [
        "## **Pasar de string a datetime**\r\n",
        "Desde casi cualquier formato conocido, se puede pasar a formato datetime con el comando `.strptime`."
      ]
    },
    {
      "cell_type": "code",
      "metadata": {
        "colab": {
          "base_uri": "https://localhost:8080/"
        },
        "id": "jq4zh7BFM4x9",
        "outputId": "1567736a-e6f8-4e44-9363-8850a5573aa2"
      },
      "source": [
        "# --\r\n",
        "# Veamos un ejemplo complicado\r\n",
        "# --\r\n",
        "fecha_string = \"21 jun, 2018\" #<-- meses en inglés\r\n",
        "print(\"Fecha en string =\", fecha_string)\r\n",
        "\r\n",
        "fecha_datetime = datetime.strptime(fecha_string, \"%d %b, %Y\")\r\n",
        "print(\"Objeto datetime =\", fecha_datetime)"
      ],
      "execution_count": null,
      "outputs": [
        {
          "output_type": "stream",
          "text": [
            "Fecha en string = 21 jun, 2018\n",
            "Objeto datetime = 2018-06-21 00:00:00\n"
          ],
          "name": "stdout"
        }
      ]
    },
    {
      "cell_type": "markdown",
      "metadata": {
        "id": "ARr0mhsu6dSF"
      },
      "source": [
        "## **Zonas horarias**\r\n",
        "También podemos trabajar con diferentes zonas horarias. Para ello, usaremos el paquete `pytz` que tiene incorporado los siguientes usos horarios:"
      ]
    },
    {
      "cell_type": "code",
      "metadata": {
        "colab": {
          "base_uri": "https://localhost:8080/"
        },
        "id": "j4-7S1C87MDO",
        "outputId": "4d282ea4-be47-4b92-a400-97f6f64e0a84"
      },
      "source": [
        "import pytz\r\n",
        "pytz.all_timezones"
      ],
      "execution_count": null,
      "outputs": [
        {
          "output_type": "execute_result",
          "data": {
            "text/plain": [
              "['Africa/Abidjan', 'Africa/Accra', 'Africa/Addis_Ababa', 'Africa/Algiers', 'Africa/Asmara', 'Africa/Asmera', 'Africa/Bamako', 'Africa/Bangui', 'Africa/Banjul', 'Africa/Bissau', 'Africa/Blantyre', 'Africa/Brazzaville', 'Africa/Bujumbura', 'Africa/Cairo', 'Africa/Casablanca', 'Africa/Ceuta', 'Africa/Conakry', 'Africa/Dakar', 'Africa/Dar_es_Salaam', 'Africa/Djibouti', 'Africa/Douala', 'Africa/El_Aaiun', 'Africa/Freetown', 'Africa/Gaborone', 'Africa/Harare', 'Africa/Johannesburg', 'Africa/Juba', 'Africa/Kampala', 'Africa/Khartoum', 'Africa/Kigali', 'Africa/Kinshasa', 'Africa/Lagos', 'Africa/Libreville', 'Africa/Lome', 'Africa/Luanda', 'Africa/Lubumbashi', 'Africa/Lusaka', 'Africa/Malabo', 'Africa/Maputo', 'Africa/Maseru', 'Africa/Mbabane', 'Africa/Mogadishu', 'Africa/Monrovia', 'Africa/Nairobi', 'Africa/Ndjamena', 'Africa/Niamey', 'Africa/Nouakchott', 'Africa/Ouagadougou', 'Africa/Porto-Novo', 'Africa/Sao_Tome', 'Africa/Timbuktu', 'Africa/Tripoli', 'Africa/Tunis', 'Africa/Windhoek', 'America/Adak', 'America/Anchorage', 'America/Anguilla', 'America/Antigua', 'America/Araguaina', 'America/Argentina/Buenos_Aires', 'America/Argentina/Catamarca', 'America/Argentina/ComodRivadavia', 'America/Argentina/Cordoba', 'America/Argentina/Jujuy', 'America/Argentina/La_Rioja', 'America/Argentina/Mendoza', 'America/Argentina/Rio_Gallegos', 'America/Argentina/Salta', 'America/Argentina/San_Juan', 'America/Argentina/San_Luis', 'America/Argentina/Tucuman', 'America/Argentina/Ushuaia', 'America/Aruba', 'America/Asuncion', 'America/Atikokan', 'America/Atka', 'America/Bahia', 'America/Bahia_Banderas', 'America/Barbados', 'America/Belem', 'America/Belize', 'America/Blanc-Sablon', 'America/Boa_Vista', 'America/Bogota', 'America/Boise', 'America/Buenos_Aires', 'America/Cambridge_Bay', 'America/Campo_Grande', 'America/Cancun', 'America/Caracas', 'America/Catamarca', 'America/Cayenne', 'America/Cayman', 'America/Chicago', 'America/Chihuahua', 'America/Coral_Harbour', 'America/Cordoba', 'America/Costa_Rica', 'America/Creston', 'America/Cuiaba', 'America/Curacao', 'America/Danmarkshavn', 'America/Dawson', 'America/Dawson_Creek', 'America/Denver', 'America/Detroit', 'America/Dominica', 'America/Edmonton', 'America/Eirunepe', 'America/El_Salvador', 'America/Ensenada', 'America/Fort_Nelson', 'America/Fort_Wayne', 'America/Fortaleza', 'America/Glace_Bay', 'America/Godthab', 'America/Goose_Bay', 'America/Grand_Turk', 'America/Grenada', 'America/Guadeloupe', 'America/Guatemala', 'America/Guayaquil', 'America/Guyana', 'America/Halifax', 'America/Havana', 'America/Hermosillo', 'America/Indiana/Indianapolis', 'America/Indiana/Knox', 'America/Indiana/Marengo', 'America/Indiana/Petersburg', 'America/Indiana/Tell_City', 'America/Indiana/Vevay', 'America/Indiana/Vincennes', 'America/Indiana/Winamac', 'America/Indianapolis', 'America/Inuvik', 'America/Iqaluit', 'America/Jamaica', 'America/Jujuy', 'America/Juneau', 'America/Kentucky/Louisville', 'America/Kentucky/Monticello', 'America/Knox_IN', 'America/Kralendijk', 'America/La_Paz', 'America/Lima', 'America/Los_Angeles', 'America/Louisville', 'America/Lower_Princes', 'America/Maceio', 'America/Managua', 'America/Manaus', 'America/Marigot', 'America/Martinique', 'America/Matamoros', 'America/Mazatlan', 'America/Mendoza', 'America/Menominee', 'America/Merida', 'America/Metlakatla', 'America/Mexico_City', 'America/Miquelon', 'America/Moncton', 'America/Monterrey', 'America/Montevideo', 'America/Montreal', 'America/Montserrat', 'America/Nassau', 'America/New_York', 'America/Nipigon', 'America/Nome', 'America/Noronha', 'America/North_Dakota/Beulah', 'America/North_Dakota/Center', 'America/North_Dakota/New_Salem', 'America/Ojinaga', 'America/Panama', 'America/Pangnirtung', 'America/Paramaribo', 'America/Phoenix', 'America/Port-au-Prince', 'America/Port_of_Spain', 'America/Porto_Acre', 'America/Porto_Velho', 'America/Puerto_Rico', 'America/Punta_Arenas', 'America/Rainy_River', 'America/Rankin_Inlet', 'America/Recife', 'America/Regina', 'America/Resolute', 'America/Rio_Branco', 'America/Rosario', 'America/Santa_Isabel', 'America/Santarem', 'America/Santiago', 'America/Santo_Domingo', 'America/Sao_Paulo', 'America/Scoresbysund', 'America/Shiprock', 'America/Sitka', 'America/St_Barthelemy', 'America/St_Johns', 'America/St_Kitts', 'America/St_Lucia', 'America/St_Thomas', 'America/St_Vincent', 'America/Swift_Current', 'America/Tegucigalpa', 'America/Thule', 'America/Thunder_Bay', 'America/Tijuana', 'America/Toronto', 'America/Tortola', 'America/Vancouver', 'America/Virgin', 'America/Whitehorse', 'America/Winnipeg', 'America/Yakutat', 'America/Yellowknife', 'Antarctica/Casey', 'Antarctica/Davis', 'Antarctica/DumontDUrville', 'Antarctica/Macquarie', 'Antarctica/Mawson', 'Antarctica/McMurdo', 'Antarctica/Palmer', 'Antarctica/Rothera', 'Antarctica/South_Pole', 'Antarctica/Syowa', 'Antarctica/Troll', 'Antarctica/Vostok', 'Arctic/Longyearbyen', 'Asia/Aden', 'Asia/Almaty', 'Asia/Amman', 'Asia/Anadyr', 'Asia/Aqtau', 'Asia/Aqtobe', 'Asia/Ashgabat', 'Asia/Ashkhabad', 'Asia/Atyrau', 'Asia/Baghdad', 'Asia/Bahrain', 'Asia/Baku', 'Asia/Bangkok', 'Asia/Barnaul', 'Asia/Beirut', 'Asia/Bishkek', 'Asia/Brunei', 'Asia/Calcutta', 'Asia/Chita', 'Asia/Choibalsan', 'Asia/Chongqing', 'Asia/Chungking', 'Asia/Colombo', 'Asia/Dacca', 'Asia/Damascus', 'Asia/Dhaka', 'Asia/Dili', 'Asia/Dubai', 'Asia/Dushanbe', 'Asia/Famagusta', 'Asia/Gaza', 'Asia/Harbin', 'Asia/Hebron', 'Asia/Ho_Chi_Minh', 'Asia/Hong_Kong', 'Asia/Hovd', 'Asia/Irkutsk', 'Asia/Istanbul', 'Asia/Jakarta', 'Asia/Jayapura', 'Asia/Jerusalem', 'Asia/Kabul', 'Asia/Kamchatka', 'Asia/Karachi', 'Asia/Kashgar', 'Asia/Kathmandu', 'Asia/Katmandu', 'Asia/Khandyga', 'Asia/Kolkata', 'Asia/Krasnoyarsk', 'Asia/Kuala_Lumpur', 'Asia/Kuching', 'Asia/Kuwait', 'Asia/Macao', 'Asia/Macau', 'Asia/Magadan', 'Asia/Makassar', 'Asia/Manila', 'Asia/Muscat', 'Asia/Nicosia', 'Asia/Novokuznetsk', 'Asia/Novosibirsk', 'Asia/Omsk', 'Asia/Oral', 'Asia/Phnom_Penh', 'Asia/Pontianak', 'Asia/Pyongyang', 'Asia/Qatar', 'Asia/Qostanay', 'Asia/Qyzylorda', 'Asia/Rangoon', 'Asia/Riyadh', 'Asia/Saigon', 'Asia/Sakhalin', 'Asia/Samarkand', 'Asia/Seoul', 'Asia/Shanghai', 'Asia/Singapore', 'Asia/Srednekolymsk', 'Asia/Taipei', 'Asia/Tashkent', 'Asia/Tbilisi', 'Asia/Tehran', 'Asia/Tel_Aviv', 'Asia/Thimbu', 'Asia/Thimphu', 'Asia/Tokyo', 'Asia/Tomsk', 'Asia/Ujung_Pandang', 'Asia/Ulaanbaatar', 'Asia/Ulan_Bator', 'Asia/Urumqi', 'Asia/Ust-Nera', 'Asia/Vientiane', 'Asia/Vladivostok', 'Asia/Yakutsk', 'Asia/Yangon', 'Asia/Yekaterinburg', 'Asia/Yerevan', 'Atlantic/Azores', 'Atlantic/Bermuda', 'Atlantic/Canary', 'Atlantic/Cape_Verde', 'Atlantic/Faeroe', 'Atlantic/Faroe', 'Atlantic/Jan_Mayen', 'Atlantic/Madeira', 'Atlantic/Reykjavik', 'Atlantic/South_Georgia', 'Atlantic/St_Helena', 'Atlantic/Stanley', 'Australia/ACT', 'Australia/Adelaide', 'Australia/Brisbane', 'Australia/Broken_Hill', 'Australia/Canberra', 'Australia/Currie', 'Australia/Darwin', 'Australia/Eucla', 'Australia/Hobart', 'Australia/LHI', 'Australia/Lindeman', 'Australia/Lord_Howe', 'Australia/Melbourne', 'Australia/NSW', 'Australia/North', 'Australia/Perth', 'Australia/Queensland', 'Australia/South', 'Australia/Sydney', 'Australia/Tasmania', 'Australia/Victoria', 'Australia/West', 'Australia/Yancowinna', 'Brazil/Acre', 'Brazil/DeNoronha', 'Brazil/East', 'Brazil/West', 'CET', 'CST6CDT', 'Canada/Atlantic', 'Canada/Central', 'Canada/Eastern', 'Canada/Mountain', 'Canada/Newfoundland', 'Canada/Pacific', 'Canada/Saskatchewan', 'Canada/Yukon', 'Chile/Continental', 'Chile/EasterIsland', 'Cuba', 'EET', 'EST', 'EST5EDT', 'Egypt', 'Eire', 'Etc/GMT', 'Etc/GMT+0', 'Etc/GMT+1', 'Etc/GMT+10', 'Etc/GMT+11', 'Etc/GMT+12', 'Etc/GMT+2', 'Etc/GMT+3', 'Etc/GMT+4', 'Etc/GMT+5', 'Etc/GMT+6', 'Etc/GMT+7', 'Etc/GMT+8', 'Etc/GMT+9', 'Etc/GMT-0', 'Etc/GMT-1', 'Etc/GMT-10', 'Etc/GMT-11', 'Etc/GMT-12', 'Etc/GMT-13', 'Etc/GMT-14', 'Etc/GMT-2', 'Etc/GMT-3', 'Etc/GMT-4', 'Etc/GMT-5', 'Etc/GMT-6', 'Etc/GMT-7', 'Etc/GMT-8', 'Etc/GMT-9', 'Etc/GMT0', 'Etc/Greenwich', 'Etc/UCT', 'Etc/UTC', 'Etc/Universal', 'Etc/Zulu', 'Europe/Amsterdam', 'Europe/Andorra', 'Europe/Astrakhan', 'Europe/Athens', 'Europe/Belfast', 'Europe/Belgrade', 'Europe/Berlin', 'Europe/Bratislava', 'Europe/Brussels', 'Europe/Bucharest', 'Europe/Budapest', 'Europe/Busingen', 'Europe/Chisinau', 'Europe/Copenhagen', 'Europe/Dublin', 'Europe/Gibraltar', 'Europe/Guernsey', 'Europe/Helsinki', 'Europe/Isle_of_Man', 'Europe/Istanbul', 'Europe/Jersey', 'Europe/Kaliningrad', 'Europe/Kiev', 'Europe/Kirov', 'Europe/Lisbon', 'Europe/Ljubljana', 'Europe/London', 'Europe/Luxembourg', 'Europe/Madrid', 'Europe/Malta', 'Europe/Mariehamn', 'Europe/Minsk', 'Europe/Monaco', 'Europe/Moscow', 'Europe/Nicosia', 'Europe/Oslo', 'Europe/Paris', 'Europe/Podgorica', 'Europe/Prague', 'Europe/Riga', 'Europe/Rome', 'Europe/Samara', 'Europe/San_Marino', 'Europe/Sarajevo', 'Europe/Saratov', 'Europe/Simferopol', 'Europe/Skopje', 'Europe/Sofia', 'Europe/Stockholm', 'Europe/Tallinn', 'Europe/Tirane', 'Europe/Tiraspol', 'Europe/Ulyanovsk', 'Europe/Uzhgorod', 'Europe/Vaduz', 'Europe/Vatican', 'Europe/Vienna', 'Europe/Vilnius', 'Europe/Volgograd', 'Europe/Warsaw', 'Europe/Zagreb', 'Europe/Zaporozhye', 'Europe/Zurich', 'GB', 'GB-Eire', 'GMT', 'GMT+0', 'GMT-0', 'GMT0', 'Greenwich', 'HST', 'Hongkong', 'Iceland', 'Indian/Antananarivo', 'Indian/Chagos', 'Indian/Christmas', 'Indian/Cocos', 'Indian/Comoro', 'Indian/Kerguelen', 'Indian/Mahe', 'Indian/Maldives', 'Indian/Mauritius', 'Indian/Mayotte', 'Indian/Reunion', 'Iran', 'Israel', 'Jamaica', 'Japan', 'Kwajalein', 'Libya', 'MET', 'MST', 'MST7MDT', 'Mexico/BajaNorte', 'Mexico/BajaSur', 'Mexico/General', 'NZ', 'NZ-CHAT', 'Navajo', 'PRC', 'PST8PDT', 'Pacific/Apia', 'Pacific/Auckland', 'Pacific/Bougainville', 'Pacific/Chatham', 'Pacific/Chuuk', 'Pacific/Easter', 'Pacific/Efate', 'Pacific/Enderbury', 'Pacific/Fakaofo', 'Pacific/Fiji', 'Pacific/Funafuti', 'Pacific/Galapagos', 'Pacific/Gambier', 'Pacific/Guadalcanal', 'Pacific/Guam', 'Pacific/Honolulu', 'Pacific/Johnston', 'Pacific/Kiritimati', 'Pacific/Kosrae', 'Pacific/Kwajalein', 'Pacific/Majuro', 'Pacific/Marquesas', 'Pacific/Midway', 'Pacific/Nauru', 'Pacific/Niue', 'Pacific/Norfolk', 'Pacific/Noumea', 'Pacific/Pago_Pago', 'Pacific/Palau', 'Pacific/Pitcairn', 'Pacific/Pohnpei', 'Pacific/Ponape', 'Pacific/Port_Moresby', 'Pacific/Rarotonga', 'Pacific/Saipan', 'Pacific/Samoa', 'Pacific/Tahiti', 'Pacific/Tarawa', 'Pacific/Tongatapu', 'Pacific/Truk', 'Pacific/Wake', 'Pacific/Wallis', 'Pacific/Yap', 'Poland', 'Portugal', 'ROC', 'ROK', 'Singapore', 'Turkey', 'UCT', 'US/Alaska', 'US/Aleutian', 'US/Arizona', 'US/Central', 'US/East-Indiana', 'US/Eastern', 'US/Hawaii', 'US/Indiana-Starke', 'US/Michigan', 'US/Mountain', 'US/Pacific', 'US/Samoa', 'UTC', 'Universal', 'W-SU', 'WET', 'Zulu']"
            ]
          },
          "metadata": {
            "tags": []
          },
          "execution_count": 86
        }
      ]
    },
    {
      "cell_type": "code",
      "metadata": {
        "colab": {
          "base_uri": "https://localhost:8080/"
        },
        "id": "HxwEV2OEM-KM",
        "outputId": "435fa3d7-b0d7-4ff7-b702-a3fe4873b519"
      },
      "source": [
        "# --\r\n",
        "# Ejemplos de cómo usarlo\r\n",
        "# --\r\n",
        "\r\n",
        "# --\r\n",
        "# Fecha actual local\r\n",
        "# --\r\n",
        "local = datetime.now()\r\n",
        "print(\"Local:\", local.strftime(\"%d/%m/%Y, %H:%M:%S\"))\r\n",
        "\r\n",
        "# --\r\n",
        "# Fecha actual para America/New_York\r\n",
        "# --\r\n",
        "tz_NY = pytz.timezone('America/New_York') \r\n",
        "datetime_NY = datetime.now(tz_NY)\r\n",
        "print(\"NY:\", datetime_NY.strftime(\"%d/%m/%Y, %H:%M:%S\"))\r\n",
        "\r\n",
        "# --\r\n",
        "# Fecha actual para Europe/London\r\n",
        "# --\r\n",
        "tz_Madrid = pytz.timezone('Europe/Madrid')\r\n",
        "datetime_Madrid = datetime.now(tz_Madrid)\r\n",
        "print(\"Madrid:\", datetime_Madrid.strftime(\"%d/%m/%Y, %H:%M:%S\"))"
      ],
      "execution_count": null,
      "outputs": [
        {
          "output_type": "stream",
          "text": [
            "Local: 20/01/2021, 17:56:57\n",
            "NY: 20/01/2021, 12:56:57\n",
            "Madrid: 20/01/2021, 18:56:57\n"
          ],
          "name": "stdout"
        }
      ]
    }
  ]
}